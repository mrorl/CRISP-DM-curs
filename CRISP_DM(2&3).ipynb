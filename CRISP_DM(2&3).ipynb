{
  "nbformat": 4,
  "nbformat_minor": 0,
  "metadata": {
    "colab": {
      "name": "CRISP-DM(2&3).ipynb",
      "provenance": [],
      "collapsed_sections": []
    },
    "kernelspec": {
      "name": "python3",
      "display_name": "Python 3"
    },
    "language_info": {
      "name": "python"
    }
  },
  "cells": [
    {
      "cell_type": "markdown",
      "metadata": {
        "id": "2DMm5Y1242yu"
      },
      "source": [
        "# Этап 2: Data Understanding"
      ]
    },
    {
      "cell_type": "markdown",
      "metadata": {
        "id": "esg0jD5m6tZ_"
      },
      "source": [
        "## Датасет №1: Адреса, где установлены камеры уличного видеонаблюдения"
      ]
    },
    {
      "cell_type": "markdown",
      "metadata": {
        "id": "-MMz42FH5JRm"
      },
      "source": [
        "###Collect Initial Data\n",
        "URL: https://data.gov.spb.ru/opendata/7825457753-Addresses_camera_installation/ (Дата обращения 31.05.21)"
      ]
    },
    {
      "cell_type": "code",
      "metadata": {
        "id": "6MlVygvR6Q8u"
      },
      "source": [
        "import pandas as pd\n",
        "import numpy as np"
      ],
      "execution_count": null,
      "outputs": []
    },
    {
      "cell_type": "code",
      "metadata": {
        "colab": {
          "base_uri": "https://localhost:8080/",
          "height": 202
        },
        "id": "JtCL7mj16UW2",
        "outputId": "f7c6f630-408d-4c10-d6ca-f485f9f7f05a"
      },
      "source": [
        "df_cameras = pd.read_csv('CCTV.csv')\n",
        "df_cameras.head()"
      ],
      "execution_count": null,
      "outputs": [
        {
          "output_type": "execute_result",
          "data": {
            "text/html": [
              "<div>\n",
              "<style scoped>\n",
              "    .dataframe tbody tr th:only-of-type {\n",
              "        vertical-align: middle;\n",
              "    }\n",
              "\n",
              "    .dataframe tbody tr th {\n",
              "        vertical-align: top;\n",
              "    }\n",
              "\n",
              "    .dataframe thead th {\n",
              "        text-align: right;\n",
              "    }\n",
              "</style>\n",
              "<table border=\"1\" class=\"dataframe\">\n",
              "  <thead>\n",
              "    <tr style=\"text-align: right;\">\n",
              "      <th></th>\n",
              "      <th>number</th>\n",
              "      <th>district</th>\n",
              "      <th>address</th>\n",
              "      <th>amount</th>\n",
              "    </tr>\n",
              "  </thead>\n",
              "  <tbody>\n",
              "    <tr>\n",
              "      <th>0</th>\n",
              "      <td>1.1</td>\n",
              "      <td>Адмиралтейский</td>\n",
              "      <td>10-я Красноармейская ул., д.3, к.9</td>\n",
              "      <td>7</td>\n",
              "    </tr>\n",
              "    <tr>\n",
              "      <th>1</th>\n",
              "      <td>1.2</td>\n",
              "      <td>Адмиралтейский</td>\n",
              "      <td>10-я Красноармейская ул., д.8</td>\n",
              "      <td>3</td>\n",
              "    </tr>\n",
              "    <tr>\n",
              "      <th>2</th>\n",
              "      <td>1.3</td>\n",
              "      <td>Адмиралтейский</td>\n",
              "      <td>11-я Красноармейская ул., д.9</td>\n",
              "      <td>3</td>\n",
              "    </tr>\n",
              "    <tr>\n",
              "      <th>3</th>\n",
              "      <td>1.4</td>\n",
              "      <td>Адмиралтейский</td>\n",
              "      <td>12-я Красноармейская ул., д.1/21</td>\n",
              "      <td>1</td>\n",
              "    </tr>\n",
              "    <tr>\n",
              "      <th>4</th>\n",
              "      <td>1.5</td>\n",
              "      <td>Адмиралтейский</td>\n",
              "      <td>13-я Красноармейская ул., д.14</td>\n",
              "      <td>3</td>\n",
              "    </tr>\n",
              "  </tbody>\n",
              "</table>\n",
              "</div>"
            ],
            "text/plain": [
              "   number        district                             address  amount\n",
              "0     1.1  Адмиралтейский  10-я Красноармейская ул., д.3, к.9       7\n",
              "1     1.2  Адмиралтейский       10-я Красноармейская ул., д.8       3\n",
              "2     1.3  Адмиралтейский       11-я Красноармейская ул., д.9       3\n",
              "3     1.4  Адмиралтейский    12-я Красноармейская ул., д.1/21       1\n",
              "4     1.5  Адмиралтейский      13-я Красноармейская ул., д.14       3"
            ]
          },
          "metadata": {
            "tags": []
          },
          "execution_count": 2
        }
      ]
    },
    {
      "cell_type": "markdown",
      "metadata": {
        "id": "f4jE9OgQ5QFH"
      },
      "source": [
        "###Describe Data\n"
      ]
    },
    {
      "cell_type": "markdown",
      "metadata": {
        "id": "DYal36g993XK"
      },
      "source": [
        "Описание полей:\n",
        "\n",
        "\n",
        "*   number - номер записи в таблице;\n",
        "*   district - район Санкт-Петербурга;\n",
        "*   address - адрес, по которому установлены видеокамеры уличного наблюдения;\n",
        "*   amount - количество камер, установленных по указанному адресу."
      ]
    },
    {
      "cell_type": "code",
      "metadata": {
        "colab": {
          "base_uri": "https://localhost:8080/"
        },
        "id": "wwR-pXnm8D_B",
        "outputId": "891713ad-61fb-4e89-c92d-c17c31bc8195"
      },
      "source": [
        "df_cameras.info()"
      ],
      "execution_count": null,
      "outputs": [
        {
          "output_type": "stream",
          "text": [
            "<class 'pandas.core.frame.DataFrame'>\n",
            "RangeIndex: 9140 entries, 0 to 9139\n",
            "Data columns (total 4 columns):\n",
            " #   Column    Non-Null Count  Dtype  \n",
            "---  ------    --------------  -----  \n",
            " 0   number    9140 non-null   float64\n",
            " 1   district  9140 non-null   object \n",
            " 2   address   9140 non-null   object \n",
            " 3   amount    9140 non-null   int64  \n",
            "dtypes: float64(1), int64(1), object(2)\n",
            "memory usage: 285.8+ KB\n"
          ],
          "name": "stdout"
        }
      ]
    },
    {
      "cell_type": "markdown",
      "metadata": {
        "id": "yG4u1Tor5S9L"
      },
      "source": [
        "###Explore Data"
      ]
    },
    {
      "cell_type": "markdown",
      "metadata": {
        "id": "01ZmjJtt21tP"
      },
      "source": [
        "1. Подсчитаем количество записей по районам."
      ]
    },
    {
      "cell_type": "code",
      "metadata": {
        "colab": {
          "base_uri": "https://localhost:8080/"
        },
        "id": "vKA5R88PB7nx",
        "outputId": "547adb55-b6fb-4f49-8ab4-fa34b481794c"
      },
      "source": [
        "df_cameras['district'].value_counts(dropna=False)"
      ],
      "execution_count": null,
      "outputs": [
        {
          "output_type": "execute_result",
          "data": {
            "text/plain": [
              "Калининский          1146\n",
              "Центральный           800\n",
              "Петроградский         789\n",
              "Приморский            737\n",
              "Невский               671\n",
              "Выборгский            670\n",
              "Московский            616\n",
              "Фрунзенский           582\n",
              "Красногвардейский     503\n",
              "Адмиралтейский        460\n",
              "Колпинский            379\n",
              "Василеостровский      357\n",
              "Красносельский        327\n",
              "Курортный             306\n",
              "Кировский             242\n",
              "Пушкинский            216\n",
              "Кронштадтский         213\n",
              "Петродворцовый        115\n",
              "Курортный               9\n",
              "Московский              1\n",
              "Невский                 1\n",
              "Name: district, dtype: int64"
            ]
          },
          "metadata": {
            "tags": []
          },
          "execution_count": 4
        }
      ]
    },
    {
      "cell_type": "markdown",
      "metadata": {
        "id": "2Fa_Pzs04UvC"
      },
      "source": [
        "2. Узнаем, сколько всего камер установлено."
      ]
    },
    {
      "cell_type": "code",
      "metadata": {
        "colab": {
          "base_uri": "https://localhost:8080/"
        },
        "id": "v4LeDoYS4PgI",
        "outputId": "4fe54879-a5ce-4be5-e4e2-2538558459c6"
      },
      "source": [
        "df_cameras['amount'].sum()"
      ],
      "execution_count": null,
      "outputs": [
        {
          "output_type": "execute_result",
          "data": {
            "text/plain": [
              "39659"
            ]
          },
          "metadata": {
            "tags": []
          },
          "execution_count": 5
        }
      ]
    },
    {
      "cell_type": "markdown",
      "metadata": {
        "id": "HNhegYdw4Xq6"
      },
      "source": [
        "3. Подсчитаем количество установленных камер по районам."
      ]
    },
    {
      "cell_type": "code",
      "metadata": {
        "colab": {
          "base_uri": "https://localhost:8080/"
        },
        "id": "y-H_x4NB2z-N",
        "outputId": "e436500e-5ea1-4169-c25d-4e3bfd7f6261"
      },
      "source": [
        "df_cameras.groupby('district')['amount'].agg('sum')"
      ],
      "execution_count": null,
      "outputs": [
        {
          "output_type": "execute_result",
          "data": {
            "text/plain": [
              "district\n",
              "Адмиралтейский       1531\n",
              "Василеостровский      843\n",
              "Выборгский           3992\n",
              "Калининский          5853\n",
              "Кировский            1190\n",
              "Колпинский           2102\n",
              "Красногвардейский    2847\n",
              "Красносельский       1772\n",
              "Кронштадтский         585\n",
              "Курортный            1186\n",
              "Курортный              76\n",
              "Московский           1598\n",
              "Московский              1\n",
              "Невский              3047\n",
              "Невский                 1\n",
              "Петроградский        2823\n",
              "Петродворцовый        903\n",
              "Приморский           3487\n",
              "Пушкинский            691\n",
              "Фрунзенский          3366\n",
              "Центральный          1765\n",
              "Name: amount, dtype: int64"
            ]
          },
          "metadata": {
            "tags": []
          },
          "execution_count": 6
        }
      ]
    },
    {
      "cell_type": "markdown",
      "metadata": {
        "id": "5xTtjb7U5Vdb"
      },
      "source": [
        "###Verify Data Quality"
      ]
    },
    {
      "cell_type": "markdown",
      "metadata": {
        "id": "BiDCbiPsCwc4"
      },
      "source": [
        "Отсутствующие данные"
      ]
    },
    {
      "cell_type": "code",
      "metadata": {
        "colab": {
          "base_uri": "https://localhost:8080/"
        },
        "id": "8bNNJZ70CuQa",
        "outputId": "f14d91fe-17aa-401f-91d3-e8d9750f2519"
      },
      "source": [
        "for col in df_cameras.columns:\n",
        "    pct_missing = np.mean(df_cameras[col].isnull())\n",
        "    print('{} - {}%'.format(col, round(pct_missing*100)))"
      ],
      "execution_count": null,
      "outputs": [
        {
          "output_type": "stream",
          "text": [
            "number - 0%\n",
            "district - 0%\n",
            "address - 0%\n",
            "amount - 0%\n"
          ],
          "name": "stdout"
        }
      ]
    },
    {
      "cell_type": "markdown",
      "metadata": {
        "id": "H5bRFvrHC3Fh"
      },
      "source": [
        "Нетипичные данные (выбросы)"
      ]
    },
    {
      "cell_type": "code",
      "metadata": {
        "colab": {
          "base_uri": "https://localhost:8080/"
        },
        "id": "3LZ1nWH9C32i",
        "outputId": "9daa1a78-9b85-43c9-b9a3-38e6ecf30f33"
      },
      "source": [
        "df_cameras['amount'].describe()"
      ],
      "execution_count": null,
      "outputs": [
        {
          "output_type": "execute_result",
          "data": {
            "text/plain": [
              "count    9140.000000\n",
              "mean        4.339059\n",
              "std         4.104263\n",
              "min         1.000000\n",
              "25%         1.000000\n",
              "50%         3.000000\n",
              "75%         6.000000\n",
              "max        60.000000\n",
              "Name: amount, dtype: float64"
            ]
          },
          "metadata": {
            "tags": []
          },
          "execution_count": 8
        }
      ]
    },
    {
      "cell_type": "code",
      "metadata": {
        "colab": {
          "base_uri": "https://localhost:8080/",
          "height": 282
        },
        "id": "eL4P0y7HC7kc",
        "outputId": "6088d728-a5bf-40c9-aacd-34448b7372b9"
      },
      "source": [
        "df_cameras.boxplot(column=['amount'])"
      ],
      "execution_count": null,
      "outputs": [
        {
          "output_type": "execute_result",
          "data": {
            "text/plain": [
              "<matplotlib.axes._subplots.AxesSubplot at 0x7fbe0616c550>"
            ]
          },
          "metadata": {
            "tags": []
          },
          "execution_count": 9
        },
        {
          "output_type": "display_data",
          "data": {
            "image/png": "[encoded data removed]",
            "text/plain": [
              "<Figure size 432x288 with 1 Axes>"
            ]
          },
          "metadata": {
            "tags": [],
            "needs_background": "light"
          }
        }
      ]
    },
    {
      "cell_type": "code",
      "metadata": {
        "colab": {
          "base_uri": "https://localhost:8080/"
        },
        "id": "JDP1H9dfC-dG",
        "outputId": "2e5a3314-4b70-4d17-fc77-0edfed2387cd"
      },
      "source": [
        "df_cameras['amount'].value_counts(sort=True)"
      ],
      "execution_count": null,
      "outputs": [
        {
          "output_type": "execute_result",
          "data": {
            "text/plain": [
              "1     2459\n",
              "2     1417\n",
              "4     1057\n",
              "3     1049\n",
              "5      714\n",
              "6      689\n",
              "7      356\n",
              "9      280\n",
              "8      280\n",
              "10     152\n",
              "12     127\n",
              "11     108\n",
              "13      85\n",
              "14      68\n",
              "16      52\n",
              "15      41\n",
              "17      39\n",
              "18      38\n",
              "20      27\n",
              "22      22\n",
              "21      17\n",
              "19      15\n",
              "24      12\n",
              "23      10\n",
              "27       6\n",
              "25       4\n",
              "28       4\n",
              "26       3\n",
              "33       2\n",
              "29       2\n",
              "31       2\n",
              "60       1\n",
              "40       1\n",
              "30       1\n",
              "Name: amount, dtype: int64"
            ]
          },
          "metadata": {
            "tags": []
          },
          "execution_count": 10
        }
      ]
    },
    {
      "cell_type": "markdown",
      "metadata": {
        "id": "2PfWTNeMDnRR"
      },
      "source": [
        "Дубликаты записей"
      ]
    },
    {
      "cell_type": "code",
      "metadata": {
        "colab": {
          "base_uri": "https://localhost:8080/"
        },
        "id": "7l1ni9VGDohN",
        "outputId": "24889d71-e0c9-4b4e-e40d-8ce8211d18ea"
      },
      "source": [
        "# отбрасываем неуникальные строки\n",
        "df_cam_dedupped = df_cameras.drop('amount', axis=1).drop_duplicates()\n",
        "\n",
        "# сравниваем формы старого и нового наборов\n",
        "print(df_cameras.shape)\n",
        "print(df_cam_dedupped.shape)"
      ],
      "execution_count": null,
      "outputs": [
        {
          "output_type": "stream",
          "text": [
            "(9140, 4)\n",
            "(9140, 3)\n"
          ],
          "name": "stdout"
        }
      ]
    },
    {
      "cell_type": "markdown",
      "metadata": {
        "id": "IPquTj_ODxWE"
      },
      "source": [
        "Дубликатов нет."
      ]
    },
    {
      "cell_type": "markdown",
      "metadata": {
        "id": "Iz4Pm8O2H33y"
      },
      "source": [
        "Вывод: в датасете с адресами камер есть выброс в колонке 'amount'."
      ]
    },
    {
      "cell_type": "markdown",
      "metadata": {
        "id": "9r1N_DZ_7c6P"
      },
      "source": [
        "## Датасет №2: Объекты недвижимого фонда, находящиеся в собственности Санкт-Петербурга, предназначенные для предоставления субъектам малого и среднего предпринимательства в Санкт-Петербурге"
      ]
    },
    {
      "cell_type": "markdown",
      "metadata": {
        "id": "y6Z4JHdE7fGx"
      },
      "source": [
        "###Collect Initial Data\n",
        "URL: https://data.gov.spb.ru/opendata/7832000076-support_business/ (Дата обращения 31.05.21)"
      ]
    },
    {
      "cell_type": "code",
      "metadata": {
        "colab": {
          "base_uri": "https://localhost:8080/",
          "height": 204
        },
        "id": "z7HzNJ8i8O6h",
        "outputId": "fce2d5e8-3273-4ee9-fc93-c251017e1f4c"
      },
      "source": [
        "df_business = pd.read_csv('business_support.csv')\n",
        "df_business.head()"
      ],
      "execution_count": null,
      "outputs": [
        {
          "output_type": "execute_result",
          "data": {
            "text/html": [
              "<div>\n",
              "<style scoped>\n",
              "    .dataframe tbody tr th:only-of-type {\n",
              "        vertical-align: middle;\n",
              "    }\n",
              "\n",
              "    .dataframe tbody tr th {\n",
              "        vertical-align: top;\n",
              "    }\n",
              "\n",
              "    .dataframe thead th {\n",
              "        text-align: right;\n",
              "    }\n",
              "</style>\n",
              "<table border=\"1\" class=\"dataframe\">\n",
              "  <thead>\n",
              "    <tr style=\"text-align: right;\">\n",
              "      <th></th>\n",
              "      <th>district</th>\n",
              "      <th>address</th>\n",
              "      <th>type</th>\n",
              "      <th>cadastral_number</th>\n",
              "      <th>area</th>\n",
              "      <th>status</th>\n",
              "      <th>document</th>\n",
              "      <th>obj_id</th>\n",
              "    </tr>\n",
              "  </thead>\n",
              "  <tbody>\n",
              "    <tr>\n",
              "      <th>0</th>\n",
              "      <td>Калининский</td>\n",
              "      <td>195009, г.Санкт-Петербург, улица Комсомола, д....</td>\n",
              "      <td>помещение</td>\n",
              "      <td>78:10:5106:0:6:2</td>\n",
              "      <td>262.7</td>\n",
              "      <td>исключен</td>\n",
              "      <td>111-р от 24.08.2010</td>\n",
              "      <td>400019652</td>\n",
              "    </tr>\n",
              "    <tr>\n",
              "      <th>1</th>\n",
              "      <td>Центральный</td>\n",
              "      <td>191104, г.Санкт-Петербург, улица Жуковского, д...</td>\n",
              "      <td>часть помещения</td>\n",
              "      <td>78:1219:2006:49:2</td>\n",
              "      <td>108.2</td>\n",
              "      <td>включен</td>\n",
              "      <td>237-р от 26.12.2008</td>\n",
              "      <td>300013581</td>\n",
              "    </tr>\n",
              "    <tr>\n",
              "      <th>2</th>\n",
              "      <td>Центральный</td>\n",
              "      <td>191025, г.Санкт-Петербург, улица Маяковского, ...</td>\n",
              "      <td>помещение</td>\n",
              "      <td>78:1219:4:9:3</td>\n",
              "      <td>100.8</td>\n",
              "      <td>исключен</td>\n",
              "      <td>911-рк от 28.11.2016</td>\n",
              "      <td>300007945</td>\n",
              "    </tr>\n",
              "    <tr>\n",
              "      <th>3</th>\n",
              "      <td>Центральный</td>\n",
              "      <td>191025, г.Санкт-Петербург, улица Маяковского, ...</td>\n",
              "      <td>помещение</td>\n",
              "      <td>78:31:0001219:3931</td>\n",
              "      <td>101.6</td>\n",
              "      <td>включен</td>\n",
              "      <td>237-р от 26.12.2008</td>\n",
              "      <td>300001882</td>\n",
              "    </tr>\n",
              "    <tr>\n",
              "      <th>4</th>\n",
              "      <td>Центральный</td>\n",
              "      <td>191123, г.Санкт-Петербург, Кирочная улица, д. ...</td>\n",
              "      <td>помещение</td>\n",
              "      <td>78:1276:2001:26:2</td>\n",
              "      <td>319.2</td>\n",
              "      <td>исключен</td>\n",
              "      <td>29-р от 23.03.2010</td>\n",
              "      <td>300017588</td>\n",
              "    </tr>\n",
              "  </tbody>\n",
              "</table>\n",
              "</div>"
            ],
            "text/plain": [
              "      district  ...     obj_id\n",
              "0  Калининский  ...  400019652\n",
              "1  Центральный  ...  300013581\n",
              "2  Центральный  ...  300007945\n",
              "3  Центральный  ...  300001882\n",
              "4  Центральный  ...  300017588\n",
              "\n",
              "[5 rows x 8 columns]"
            ]
          },
          "metadata": {
            "tags": []
          },
          "execution_count": 12
        }
      ]
    },
    {
      "cell_type": "markdown",
      "metadata": {
        "id": "ZcS4NRYx7gqq"
      },
      "source": [
        "###Describe Data\n"
      ]
    },
    {
      "cell_type": "markdown",
      "metadata": {
        "id": "RSEQAgTs99AG"
      },
      "source": [
        "Описание полей:\n",
        "\n",
        "\n",
        "*   district - район Санкт-Петербурга;\n",
        "*   address - адрес объекта недвижимого фонда;\n",
        "*   type - тип помещения;\n",
        "*   cadastral_number - кадастровый номер;\n",
        "*   area - площадь помещения;\n",
        "*   status - статус;\n",
        "*   document - распоряжение комитета по управлению городским имуществом;\n",
        "*   obj_id - идентификатор объекта недвижимого фонда.\n",
        "\n"
      ]
    },
    {
      "cell_type": "code",
      "metadata": {
        "colab": {
          "base_uri": "https://localhost:8080/"
        },
        "id": "NhT9WSEP8Q58",
        "outputId": "14f4511c-202f-4493-fbb0-31cbcde14764"
      },
      "source": [
        "df_business.info()"
      ],
      "execution_count": null,
      "outputs": [
        {
          "output_type": "stream",
          "text": [
            "<class 'pandas.core.frame.DataFrame'>\n",
            "RangeIndex: 2655 entries, 0 to 2654\n",
            "Data columns (total 8 columns):\n",
            " #   Column            Non-Null Count  Dtype  \n",
            "---  ------            --------------  -----  \n",
            " 0   district          2655 non-null   object \n",
            " 1   address           2655 non-null   object \n",
            " 2   type              2655 non-null   object \n",
            " 3   cadastral_number  2629 non-null   object \n",
            " 4   area              2655 non-null   float64\n",
            " 5   status            2655 non-null   object \n",
            " 6   document          2655 non-null   object \n",
            " 7   obj_id            2655 non-null   int64  \n",
            "dtypes: float64(1), int64(1), object(6)\n",
            "memory usage: 166.1+ KB\n"
          ],
          "name": "stdout"
        }
      ]
    },
    {
      "cell_type": "markdown",
      "metadata": {
        "id": "9Huq3trs7iZK"
      },
      "source": [
        "###Explore Data"
      ]
    },
    {
      "cell_type": "markdown",
      "metadata": {
        "id": "x2qAhdax28Df"
      },
      "source": [
        "1. Подсчитаем количество записей по районам."
      ]
    },
    {
      "cell_type": "code",
      "metadata": {
        "colab": {
          "base_uri": "https://localhost:8080/"
        },
        "id": "BmWRHob6BSuE",
        "outputId": "042cb391-ca70-4a8e-b03c-ec8eb8624a3a"
      },
      "source": [
        "df_business['district'].value_counts(dropna=False)[:5]"
      ],
      "execution_count": null,
      "outputs": [
        {
          "output_type": "execute_result",
          "data": {
            "text/plain": [
              "Центральный       1028\n",
              "Адмиралтейский     427\n",
              "Петроградский      244\n",
              "Невский            169\n",
              "Московский         152\n",
              "Name: district, dtype: int64"
            ]
          },
          "metadata": {
            "tags": []
          },
          "execution_count": 14
        }
      ]
    },
    {
      "cell_type": "markdown",
      "metadata": {
        "id": "hFuBy3tY5X99"
      },
      "source": [
        "2. Подсчитаем общую площадь объектов недвижимого фонда по районам."
      ]
    },
    {
      "cell_type": "code",
      "metadata": {
        "colab": {
          "base_uri": "https://localhost:8080/"
        },
        "id": "MY9lxT1d5HkN",
        "outputId": "983d4f0e-9abc-4881-8731-42d0d3dc6721"
      },
      "source": [
        "df_business.groupby('district')['area'].agg('sum')"
      ],
      "execution_count": null,
      "outputs": [
        {
          "output_type": "execute_result",
          "data": {
            "text/plain": [
              "district\n",
              "Адмиралтейский        60829.9\n",
              "Василеостровский      13297.6\n",
              "Выборгский             7831.8\n",
              "Калининский            5646.2\n",
              "Кировский             13092.8\n",
              "Колпинский             2521.1\n",
              "Красногвардейский     17005.4\n",
              "Красносельский         5147.3\n",
              "Кронштадтский           789.6\n",
              "Курортный              2333.6\n",
              "Московский            19932.2\n",
              "Невский               28798.0\n",
              "Петроградский         30228.0\n",
              "Петродворцовый         4846.8\n",
              "Приморский             3060.0\n",
              "Пушкинский             5352.5\n",
              "Фрунзенский           12938.3\n",
              "Центральный          164305.5\n",
              "Name: area, dtype: float64"
            ]
          },
          "metadata": {
            "tags": []
          },
          "execution_count": 15
        }
      ]
    },
    {
      "cell_type": "markdown",
      "metadata": {
        "id": "OkO4gnGL9-Ku"
      },
      "source": [
        "3. Узнаем, какие есть типы помещений, как они распределены по районам города."
      ]
    },
    {
      "cell_type": "code",
      "metadata": {
        "colab": {
          "base_uri": "https://localhost:8080/"
        },
        "id": "t1CMitYk93Re",
        "outputId": "5ca2232f-048b-45d2-af5b-ac6ee7b93279"
      },
      "source": [
        "df_business['type'].unique()"
      ],
      "execution_count": null,
      "outputs": [
        {
          "output_type": "execute_result",
          "data": {
            "text/plain": [
              "array(['помещение', 'часть помещения', 'здание', 'часть здания'],\n",
              "      dtype=object)"
            ]
          },
          "metadata": {
            "tags": []
          },
          "execution_count": 16
        }
      ]
    },
    {
      "cell_type": "code",
      "metadata": {
        "colab": {
          "base_uri": "https://localhost:8080/",
          "height": 638
        },
        "id": "5CDnNOcO9mWn",
        "outputId": "faf0fb08-556a-4971-82d5-de313ab9a86c"
      },
      "source": [
        "df_business.groupby('district')['type'].describe()"
      ],
      "execution_count": null,
      "outputs": [
        {
          "output_type": "execute_result",
          "data": {
            "text/html": [
              "<div>\n",
              "<style scoped>\n",
              "    .dataframe tbody tr th:only-of-type {\n",
              "        vertical-align: middle;\n",
              "    }\n",
              "\n",
              "    .dataframe tbody tr th {\n",
              "        vertical-align: top;\n",
              "    }\n",
              "\n",
              "    .dataframe thead th {\n",
              "        text-align: right;\n",
              "    }\n",
              "</style>\n",
              "<table border=\"1\" class=\"dataframe\">\n",
              "  <thead>\n",
              "    <tr style=\"text-align: right;\">\n",
              "      <th></th>\n",
              "      <th>count</th>\n",
              "      <th>unique</th>\n",
              "      <th>top</th>\n",
              "      <th>freq</th>\n",
              "    </tr>\n",
              "    <tr>\n",
              "      <th>district</th>\n",
              "      <th></th>\n",
              "      <th></th>\n",
              "      <th></th>\n",
              "      <th></th>\n",
              "    </tr>\n",
              "  </thead>\n",
              "  <tbody>\n",
              "    <tr>\n",
              "      <th>Адмиралтейский</th>\n",
              "      <td>427</td>\n",
              "      <td>3</td>\n",
              "      <td>помещение</td>\n",
              "      <td>326</td>\n",
              "    </tr>\n",
              "    <tr>\n",
              "      <th>Василеостровский</th>\n",
              "      <td>92</td>\n",
              "      <td>4</td>\n",
              "      <td>помещение</td>\n",
              "      <td>60</td>\n",
              "    </tr>\n",
              "    <tr>\n",
              "      <th>Выборгский</th>\n",
              "      <td>59</td>\n",
              "      <td>3</td>\n",
              "      <td>помещение</td>\n",
              "      <td>33</td>\n",
              "    </tr>\n",
              "    <tr>\n",
              "      <th>Калининский</th>\n",
              "      <td>41</td>\n",
              "      <td>3</td>\n",
              "      <td>помещение</td>\n",
              "      <td>30</td>\n",
              "    </tr>\n",
              "    <tr>\n",
              "      <th>Кировский</th>\n",
              "      <td>106</td>\n",
              "      <td>4</td>\n",
              "      <td>помещение</td>\n",
              "      <td>60</td>\n",
              "    </tr>\n",
              "    <tr>\n",
              "      <th>Колпинский</th>\n",
              "      <td>16</td>\n",
              "      <td>2</td>\n",
              "      <td>здание</td>\n",
              "      <td>9</td>\n",
              "    </tr>\n",
              "    <tr>\n",
              "      <th>Красногвардейский</th>\n",
              "      <td>99</td>\n",
              "      <td>4</td>\n",
              "      <td>помещение</td>\n",
              "      <td>52</td>\n",
              "    </tr>\n",
              "    <tr>\n",
              "      <th>Красносельский</th>\n",
              "      <td>38</td>\n",
              "      <td>3</td>\n",
              "      <td>помещение</td>\n",
              "      <td>31</td>\n",
              "    </tr>\n",
              "    <tr>\n",
              "      <th>Кронштадтский</th>\n",
              "      <td>5</td>\n",
              "      <td>3</td>\n",
              "      <td>здание</td>\n",
              "      <td>2</td>\n",
              "    </tr>\n",
              "    <tr>\n",
              "      <th>Курортный</th>\n",
              "      <td>8</td>\n",
              "      <td>3</td>\n",
              "      <td>здание</td>\n",
              "      <td>6</td>\n",
              "    </tr>\n",
              "    <tr>\n",
              "      <th>Московский</th>\n",
              "      <td>152</td>\n",
              "      <td>4</td>\n",
              "      <td>помещение</td>\n",
              "      <td>108</td>\n",
              "    </tr>\n",
              "    <tr>\n",
              "      <th>Невский</th>\n",
              "      <td>169</td>\n",
              "      <td>4</td>\n",
              "      <td>помещение</td>\n",
              "      <td>127</td>\n",
              "    </tr>\n",
              "    <tr>\n",
              "      <th>Петроградский</th>\n",
              "      <td>244</td>\n",
              "      <td>4</td>\n",
              "      <td>помещение</td>\n",
              "      <td>178</td>\n",
              "    </tr>\n",
              "    <tr>\n",
              "      <th>Петродворцовый</th>\n",
              "      <td>34</td>\n",
              "      <td>4</td>\n",
              "      <td>здание</td>\n",
              "      <td>27</td>\n",
              "    </tr>\n",
              "    <tr>\n",
              "      <th>Приморский</th>\n",
              "      <td>28</td>\n",
              "      <td>3</td>\n",
              "      <td>помещение</td>\n",
              "      <td>16</td>\n",
              "    </tr>\n",
              "    <tr>\n",
              "      <th>Пушкинский</th>\n",
              "      <td>32</td>\n",
              "      <td>4</td>\n",
              "      <td>помещение</td>\n",
              "      <td>15</td>\n",
              "    </tr>\n",
              "    <tr>\n",
              "      <th>Фрунзенский</th>\n",
              "      <td>77</td>\n",
              "      <td>4</td>\n",
              "      <td>помещение</td>\n",
              "      <td>48</td>\n",
              "    </tr>\n",
              "    <tr>\n",
              "      <th>Центральный</th>\n",
              "      <td>1028</td>\n",
              "      <td>4</td>\n",
              "      <td>помещение</td>\n",
              "      <td>729</td>\n",
              "    </tr>\n",
              "  </tbody>\n",
              "</table>\n",
              "</div>"
            ],
            "text/plain": [
              "                  count unique        top freq\n",
              "district                                      \n",
              "Адмиралтейский      427      3  помещение  326\n",
              "Василеостровский     92      4  помещение   60\n",
              "Выборгский           59      3  помещение   33\n",
              "Калининский          41      3  помещение   30\n",
              "Кировский           106      4  помещение   60\n",
              "Колпинский           16      2     здание    9\n",
              "Красногвардейский    99      4  помещение   52\n",
              "Красносельский       38      3  помещение   31\n",
              "Кронштадтский         5      3     здание    2\n",
              "Курортный             8      3     здание    6\n",
              "Московский          152      4  помещение  108\n",
              "Невский             169      4  помещение  127\n",
              "Петроградский       244      4  помещение  178\n",
              "Петродворцовый       34      4     здание   27\n",
              "Приморский           28      3  помещение   16\n",
              "Пушкинский           32      4  помещение   15\n",
              "Фрунзенский          77      4  помещение   48\n",
              "Центральный        1028      4  помещение  729"
            ]
          },
          "metadata": {
            "tags": []
          },
          "execution_count": 17
        }
      ]
    },
    {
      "cell_type": "markdown",
      "metadata": {
        "id": "zs4inm817l-Z"
      },
      "source": [
        "###Verify Data Quality"
      ]
    },
    {
      "cell_type": "markdown",
      "metadata": {
        "id": "K1pTRoEVCsOa"
      },
      "source": [
        "Отсутствующие данные"
      ]
    },
    {
      "cell_type": "code",
      "metadata": {
        "colab": {
          "base_uri": "https://localhost:8080/"
        },
        "id": "LuCLYtNlD1Nq",
        "outputId": "09bc1574-5514-4cbc-d841-49584aedc69b"
      },
      "source": [
        "for col in df_business.columns:\n",
        "    pct_missing = np.mean(df_business[col].isnull())\n",
        "    print('{} - {}%'.format(col, round(pct_missing*100)))"
      ],
      "execution_count": null,
      "outputs": [
        {
          "output_type": "stream",
          "text": [
            "district - 0%\n",
            "address - 0%\n",
            "type - 0%\n",
            "cadastral_number - 1%\n",
            "area - 0%\n",
            "status - 0%\n",
            "document - 0%\n",
            "obj_id - 0%\n"
          ],
          "name": "stdout"
        }
      ]
    },
    {
      "cell_type": "code",
      "metadata": {
        "colab": {
          "base_uri": "https://localhost:8080/",
          "height": 367
        },
        "id": "_RfeiTRgD4f3",
        "outputId": "96d41c25-302b-4912-bdf7-d3d21189784d"
      },
      "source": [
        "import seaborn as sns\n",
        "\n",
        "colours = ['#000099', '#ffff00'] \n",
        "sns.heatmap(df_business.isnull(), cmap=sns.color_palette(colours))"
      ],
      "execution_count": null,
      "outputs": [
        {
          "output_type": "execute_result",
          "data": {
            "text/plain": [
              "<matplotlib.axes._subplots.AxesSubplot at 0x7fbdf6e92210>"
            ]
          },
          "metadata": {
            "tags": []
          },
          "execution_count": 19
        },
        {
          "output_type": "display_data",
          "data": {
            "image/png": "[encoded data removed]",
            "text/plain": [
              "<Figure size 432x288 with 2 Axes>"
            ]
          },
          "metadata": {
            "tags": [],
            "needs_background": "light"
          }
        }
      ]
    },
    {
      "cell_type": "markdown",
      "metadata": {
        "id": "HBGUNVUIEB5E"
      },
      "source": [
        "Видим, что у нас не везде указан кадастровый номер помещения (cadastral number). Определим, какой метод борьбы с пропусками лучше всего подходит в данной ситуации. Отбрасывать сам признак не имеет смысла, так как процент пропусков очень мал. Внесение недостающих значений не представляется возможным, так как cadastral number - это уникальный номер объекта недвижимости. Наиболее простым способом решения проблемы является отбрасывание записей, содержащих пропуски. Тем не менее, возможна замена надостающих значений на некоторый дефолтный плейсхолдер, в таком случае мы не потеряем важной информации."
      ]
    },
    {
      "cell_type": "markdown",
      "metadata": {
        "id": "bG2911zHENwZ"
      },
      "source": [
        "Нетипичные данные (выбросы)"
      ]
    },
    {
      "cell_type": "code",
      "metadata": {
        "colab": {
          "base_uri": "https://localhost:8080/"
        },
        "id": "va1Iz_fVEOSg",
        "outputId": "739124b2-ce4b-4f94-c3ba-4362cb2bc5b6"
      },
      "source": [
        "df_business['area'].describe()"
      ],
      "execution_count": null,
      "outputs": [
        {
          "output_type": "execute_result",
          "data": {
            "text/plain": [
              "count    2655.000000\n",
              "mean      149.889492\n",
              "std       181.486754\n",
              "min         2.300000\n",
              "25%        53.100000\n",
              "50%       101.500000\n",
              "75%       191.450000\n",
              "max      3458.300000\n",
              "Name: area, dtype: float64"
            ]
          },
          "metadata": {
            "tags": []
          },
          "execution_count": 20
        }
      ]
    },
    {
      "cell_type": "code",
      "metadata": {
        "colab": {
          "base_uri": "https://localhost:8080/",
          "height": 282
        },
        "id": "UD4ywOxjETgQ",
        "outputId": "5ee5fdbc-ab0d-4e85-92af-7d8a1c3c94a1"
      },
      "source": [
        "df_business.boxplot(column=['area'])"
      ],
      "execution_count": null,
      "outputs": [
        {
          "output_type": "execute_result",
          "data": {
            "text/plain": [
              "<matplotlib.axes._subplots.AxesSubplot at 0x7fbdee5aa050>"
            ]
          },
          "metadata": {
            "tags": []
          },
          "execution_count": 21
        },
        {
          "output_type": "display_data",
          "data": {
            "image/png": "[encoded data removed]",
            "text/plain": [
              "<Figure size 432x288 with 1 Axes>"
            ]
          },
          "metadata": {
            "tags": [],
            "needs_background": "light"
          }
        }
      ]
    },
    {
      "cell_type": "markdown",
      "metadata": {
        "id": "rq9WnfumEwYI"
      },
      "source": [
        "Дубликаты записей"
      ]
    },
    {
      "cell_type": "code",
      "metadata": {
        "colab": {
          "base_uri": "https://localhost:8080/"
        },
        "id": "uPCJkkeHEyEU",
        "outputId": "d176b000-85dd-4ef5-863a-5be65c5fde42"
      },
      "source": [
        "# отбрасываем неуникальные строки\n",
        "df_bus_dedupped = df_business.drop('obj_id', axis=1).drop_duplicates()\n",
        "\n",
        "# сравниваем формы старого и нового наборов\n",
        "print(df_business.shape)\n",
        "print(df_bus_dedupped.shape)"
      ],
      "execution_count": null,
      "outputs": [
        {
          "output_type": "stream",
          "text": [
            "(2655, 8)\n",
            "(2653, 7)\n"
          ],
          "name": "stdout"
        }
      ]
    },
    {
      "cell_type": "code",
      "metadata": {
        "colab": {
          "base_uri": "https://localhost:8080/"
        },
        "id": "mZaNSqUdGXKp",
        "outputId": "2c56bafe-e62d-4924-ba10-5cf20bb454af"
      },
      "source": [
        "key = ['district', 'address', 'type', 'cadastral_number', 'area', 'status', 'document']\n",
        "\n",
        "df_business.fillna(-999).groupby(key)['obj_id'].count().sort_values(ascending=False).head(20)"
      ],
      "execution_count": null,
      "outputs": [
        {
          "output_type": "execute_result",
          "data": {
            "text/plain": [
              "district        address                                                                                  type             cadastral_number    area   status    document                 \n",
              "Адмиралтейский  190031, г.Санкт-Петербург, Спасский переулок, д. 4, литера Б                             часть помещения  78:1145:0:30:2      23.1   включен   237-р от 26.12.2008          2\n",
              "Невский         192174, г.Санкт-Петербург, проспект Александровской Фермы, д. 66а, литера А              часть здания     78:7152:2006:244    133.5  исключен  132-р от 04.10.2010          2\n",
              "Кронштадтский   197760, Санкт-Петербург, город Кронштадт, улица Восстания, д. 11, литера А               здание           78:34:10358:2:15    195.1  исключен  77-р от 05.06.2012           1\n",
              "Курортный       197733, Санкт-Петербург, поселок Комарово, Большой проспект, д. 13, литера Б             здание           78:22218:0:10       42.3   исключен  54-р от 11.05.2011           1\n",
              "                197720, Санкт-Петербург, город Зеленогорск, проспект Ленина, д. 62/1, литера А           часть здания     78:22510Б:2001:1    96.3   исключен  30-р от 20.03.2012           1\n",
              "                197720, Санкт-Петербург, город Зеленогорск, проспект Красных Командиров, д. 7, литера А  здание           78:38:0022473:3013  366.6  исключен  89-р от 23.06.2011           1\n",
              "                197706, Санкт-Петербург, город Сестрорецк, улица Володарского, д. 7/9, литера А          часть помещения  78:38:0011105:1746  299.3  включен   237-р от 26.12.2008          1\n",
              "                197706, Санкт-Петербург, город Сестрорецк, набережная реки Сестры, д. 44, литера А       здание           78:11124А:2001:12   486.1  исключен  108-р от 20.07.2011          1\n",
              "                197706, Санкт-Петербург, город Сестрорецк, Лесная улица, д. 13/42, литера А              здание           78:11124А:2001:8    405.9  исключен  108-р от 20.07.2011          1\n",
              "                197706, Санкт-Петербург, город Сестрорецк, Лесная улица, д. 11, литера А                 здание           78:11124А:2001:2    345.9  исключен  108-р от 20.07.2011          1\n",
              "Центральный     г.Санкт-Петербург, улица Маяковского, д. 37, литера А                                    помещение        78:1278:0:31:3      265.1  исключен  44-р от 22.04.2013           1\n",
              "Курортный       197733, Санкт-Петербург, поселок Комарово, Большой проспект, д. 13а, литера А            здание           78:22218:0:9        291.2  исключен  54-р от 11.05.2011           1\n",
              "Кронштадтский   197760, Санкт-Петербург, город Кронштадт, Советская улица, д. 13, литера А               помещение        78:34:10309:0:9:1   196.0  включен   65-р от 03.06.2009           1\n",
              "                197760, Санкт-Петербург, город Кронштадт, Посадская улица, д. 49, литера А               часть помещения  78:34:0010334:43    55.7   включен   237-р от 26.12.2008          1\n",
              "                197760, Санкт-Петербург, город Кронштадт, Кронштадтское шоссе, д. 31, литера Б           здание           78:34:10229:2001:2  160.1  включен   237-р от 26.12.2008          1\n",
              "Красносельский  г.Санкт-Петербург, улица Маршала Захарова, д. 18, к. 1, литера А                         помещение        78:40:8341:54:3:5   130.0  включен   91-р от 23.06.2011           1\n",
              "                                                                                                                          78:40:8341:54:3:4   162.7  исключен  385-рк от 30.05.2016         1\n",
              "                                                                                                                          78:40:8341:54:3:3   186.5  включен   91-р от 23.06.2011           1\n",
              "                                                                                                                          78:40:8341:54:3:2   149.1  включен   91-р от 23.06.2011           1\n",
              "                г.Санкт-Петербург, улица Маршала Захарова, д. 16, к. 1, литера А                         помещение        78:40:8341:47:2:3   112.9  исключен  99-р (2695) от 24.10.2014    1\n",
              "Name: obj_id, dtype: int64"
            ]
          },
          "metadata": {
            "tags": []
          },
          "execution_count": 23
        }
      ]
    },
    {
      "cell_type": "code",
      "metadata": {
        "colab": {
          "base_uri": "https://localhost:8080/",
          "height": 173
        },
        "id": "pel3IP0EEz2C",
        "outputId": "916b3631-9f11-4496-a926-54ffc529fcd3"
      },
      "source": [
        "df_business[df_business['address'] == '190031, г.Санкт-Петербург, Спасский переулок, д. 4, литера Б']"
      ],
      "execution_count": null,
      "outputs": [
        {
          "output_type": "execute_result",
          "data": {
            "text/html": [
              "<div>\n",
              "<style scoped>\n",
              "    .dataframe tbody tr th:only-of-type {\n",
              "        vertical-align: middle;\n",
              "    }\n",
              "\n",
              "    .dataframe tbody tr th {\n",
              "        vertical-align: top;\n",
              "    }\n",
              "\n",
              "    .dataframe thead th {\n",
              "        text-align: right;\n",
              "    }\n",
              "</style>\n",
              "<table border=\"1\" class=\"dataframe\">\n",
              "  <thead>\n",
              "    <tr style=\"text-align: right;\">\n",
              "      <th></th>\n",
              "      <th>district</th>\n",
              "      <th>address</th>\n",
              "      <th>type</th>\n",
              "      <th>cadastral_number</th>\n",
              "      <th>area</th>\n",
              "      <th>status</th>\n",
              "      <th>document</th>\n",
              "      <th>obj_id</th>\n",
              "    </tr>\n",
              "  </thead>\n",
              "  <tbody>\n",
              "    <tr>\n",
              "      <th>775</th>\n",
              "      <td>Адмиралтейский</td>\n",
              "      <td>190031, г.Санкт-Петербург, Спасский переулок, ...</td>\n",
              "      <td>часть помещения</td>\n",
              "      <td>78:1145:0:30:2</td>\n",
              "      <td>23.1</td>\n",
              "      <td>включен</td>\n",
              "      <td>237-р от 26.12.2008</td>\n",
              "      <td>1100043291</td>\n",
              "    </tr>\n",
              "    <tr>\n",
              "      <th>1113</th>\n",
              "      <td>Адмиралтейский</td>\n",
              "      <td>190031, г.Санкт-Петербург, Спасский переулок, ...</td>\n",
              "      <td>часть помещения</td>\n",
              "      <td>78:1145:0:30:2</td>\n",
              "      <td>23.1</td>\n",
              "      <td>включен</td>\n",
              "      <td>237-р от 26.12.2008</td>\n",
              "      <td>1100043290</td>\n",
              "    </tr>\n",
              "    <tr>\n",
              "      <th>1781</th>\n",
              "      <td>Адмиралтейский</td>\n",
              "      <td>190031, г.Санкт-Петербург, Спасский переулок, ...</td>\n",
              "      <td>часть помещения</td>\n",
              "      <td>78:1145:0:30:5</td>\n",
              "      <td>56.7</td>\n",
              "      <td>включен</td>\n",
              "      <td>237-р от 26.12.2008</td>\n",
              "      <td>1100043208</td>\n",
              "    </tr>\n",
              "    <tr>\n",
              "      <th>2105</th>\n",
              "      <td>Адмиралтейский</td>\n",
              "      <td>190031, г.Санкт-Петербург, Спасский переулок, ...</td>\n",
              "      <td>часть помещения</td>\n",
              "      <td>78:1145:0:30:5</td>\n",
              "      <td>54.4</td>\n",
              "      <td>включен</td>\n",
              "      <td>237-р от 26.12.2008</td>\n",
              "      <td>1100043207</td>\n",
              "    </tr>\n",
              "  </tbody>\n",
              "</table>\n",
              "</div>"
            ],
            "text/plain": [
              "            district  ...      obj_id\n",
              "775   Адмиралтейский  ...  1100043291\n",
              "1113  Адмиралтейский  ...  1100043290\n",
              "1781  Адмиралтейский  ...  1100043208\n",
              "2105  Адмиралтейский  ...  1100043207\n",
              "\n",
              "[4 rows x 8 columns]"
            ]
          },
          "metadata": {
            "tags": []
          },
          "execution_count": 24
        }
      ]
    },
    {
      "cell_type": "code",
      "metadata": {
        "colab": {
          "base_uri": "https://localhost:8080/",
          "height": 142
        },
        "id": "tXnnHL0HGcHg",
        "outputId": "fc4c05a8-040e-4cdd-e6f9-4eac88f08a9f"
      },
      "source": [
        "df_business[df_business['address'] == '192174, г.Санкт-Петербург, проспект Александровской Фермы, д. 66а, литера А']"
      ],
      "execution_count": null,
      "outputs": [
        {
          "output_type": "execute_result",
          "data": {
            "text/html": [
              "<div>\n",
              "<style scoped>\n",
              "    .dataframe tbody tr th:only-of-type {\n",
              "        vertical-align: middle;\n",
              "    }\n",
              "\n",
              "    .dataframe tbody tr th {\n",
              "        vertical-align: top;\n",
              "    }\n",
              "\n",
              "    .dataframe thead th {\n",
              "        text-align: right;\n",
              "    }\n",
              "</style>\n",
              "<table border=\"1\" class=\"dataframe\">\n",
              "  <thead>\n",
              "    <tr style=\"text-align: right;\">\n",
              "      <th></th>\n",
              "      <th>district</th>\n",
              "      <th>address</th>\n",
              "      <th>type</th>\n",
              "      <th>cadastral_number</th>\n",
              "      <th>area</th>\n",
              "      <th>status</th>\n",
              "      <th>document</th>\n",
              "      <th>obj_id</th>\n",
              "    </tr>\n",
              "  </thead>\n",
              "  <tbody>\n",
              "    <tr>\n",
              "      <th>136</th>\n",
              "      <td>Невский</td>\n",
              "      <td>192174, г.Санкт-Петербург, проспект Александро...</td>\n",
              "      <td>часть здания</td>\n",
              "      <td>78:7152:2006:244</td>\n",
              "      <td>133.5</td>\n",
              "      <td>исключен</td>\n",
              "      <td>132-р от 04.10.2010</td>\n",
              "      <td>1300032196</td>\n",
              "    </tr>\n",
              "    <tr>\n",
              "      <th>462</th>\n",
              "      <td>Невский</td>\n",
              "      <td>192174, г.Санкт-Петербург, проспект Александро...</td>\n",
              "      <td>часть здания</td>\n",
              "      <td>78:7152:2006:244</td>\n",
              "      <td>133.5</td>\n",
              "      <td>исключен</td>\n",
              "      <td>132-р от 04.10.2010</td>\n",
              "      <td>1300032197</td>\n",
              "    </tr>\n",
              "    <tr>\n",
              "      <th>1115</th>\n",
              "      <td>Невский</td>\n",
              "      <td>192174, г.Санкт-Петербург, проспект Александро...</td>\n",
              "      <td>часть здания</td>\n",
              "      <td>78:7152:2006:244</td>\n",
              "      <td>130.7</td>\n",
              "      <td>исключен</td>\n",
              "      <td>132-р от 04.10.2010</td>\n",
              "      <td>1300032198</td>\n",
              "    </tr>\n",
              "  </tbody>\n",
              "</table>\n",
              "</div>"
            ],
            "text/plain": [
              "     district  ...      obj_id\n",
              "136   Невский  ...  1300032196\n",
              "462   Невский  ...  1300032197\n",
              "1115  Невский  ...  1300032198\n",
              "\n",
              "[3 rows x 8 columns]"
            ]
          },
          "metadata": {
            "tags": []
          },
          "execution_count": 25
        }
      ]
    },
    {
      "cell_type": "markdown",
      "metadata": {
        "id": "Ma9GTMAJGtsw"
      },
      "source": [
        "Найдены два дубликата."
      ]
    },
    {
      "cell_type": "markdown",
      "metadata": {
        "id": "UcnhPRhj5YE9"
      },
      "source": [
        "#Этап 3: Data Preparation"
      ]
    },
    {
      "cell_type": "markdown",
      "metadata": {
        "id": "NaEYAlivKM9t"
      },
      "source": [
        "## Датасет №1"
      ]
    },
    {
      "cell_type": "markdown",
      "metadata": {
        "id": "MWL_CvhP5d6I"
      },
      "source": [
        "###Select Data\n",
        "Признак 'number' не является релевантным, исключим его."
      ]
    },
    {
      "cell_type": "code",
      "metadata": {
        "colab": {
          "base_uri": "https://localhost:8080/",
          "height": 204
        },
        "id": "eEB7CLp9LVoc",
        "outputId": "070a70ff-01b8-4c01-c2cb-2c093dc304c4"
      },
      "source": [
        "df_cameras.drop('number', axis=1, inplace=True)\n",
        "df_cameras.head()"
      ],
      "execution_count": null,
      "outputs": [
        {
          "output_type": "execute_result",
          "data": {
            "text/html": [
              "<div>\n",
              "<style scoped>\n",
              "    .dataframe tbody tr th:only-of-type {\n",
              "        vertical-align: middle;\n",
              "    }\n",
              "\n",
              "    .dataframe tbody tr th {\n",
              "        vertical-align: top;\n",
              "    }\n",
              "\n",
              "    .dataframe thead th {\n",
              "        text-align: right;\n",
              "    }\n",
              "</style>\n",
              "<table border=\"1\" class=\"dataframe\">\n",
              "  <thead>\n",
              "    <tr style=\"text-align: right;\">\n",
              "      <th></th>\n",
              "      <th>district</th>\n",
              "      <th>address</th>\n",
              "      <th>amount</th>\n",
              "    </tr>\n",
              "  </thead>\n",
              "  <tbody>\n",
              "    <tr>\n",
              "      <th>0</th>\n",
              "      <td>Адмиралтейский</td>\n",
              "      <td>10-я Красноармейская ул., д.3, к.9</td>\n",
              "      <td>7</td>\n",
              "    </tr>\n",
              "    <tr>\n",
              "      <th>1</th>\n",
              "      <td>Адмиралтейский</td>\n",
              "      <td>10-я Красноармейская ул., д.8</td>\n",
              "      <td>3</td>\n",
              "    </tr>\n",
              "    <tr>\n",
              "      <th>2</th>\n",
              "      <td>Адмиралтейский</td>\n",
              "      <td>11-я Красноармейская ул., д.9</td>\n",
              "      <td>3</td>\n",
              "    </tr>\n",
              "    <tr>\n",
              "      <th>3</th>\n",
              "      <td>Адмиралтейский</td>\n",
              "      <td>12-я Красноармейская ул., д.1/21</td>\n",
              "      <td>1</td>\n",
              "    </tr>\n",
              "    <tr>\n",
              "      <th>4</th>\n",
              "      <td>Адмиралтейский</td>\n",
              "      <td>13-я Красноармейская ул., д.14</td>\n",
              "      <td>3</td>\n",
              "    </tr>\n",
              "  </tbody>\n",
              "</table>\n",
              "</div>"
            ],
            "text/plain": [
              "         district                             address  amount\n",
              "0  Адмиралтейский  10-я Красноармейская ул., д.3, к.9       7\n",
              "1  Адмиралтейский       10-я Красноармейская ул., д.8       3\n",
              "2  Адмиралтейский       11-я Красноармейская ул., д.9       3\n",
              "3  Адмиралтейский    12-я Красноармейская ул., д.1/21       1\n",
              "4  Адмиралтейский      13-я Красноармейская ул., д.14       3"
            ]
          },
          "metadata": {
            "tags": []
          },
          "execution_count": 26
        }
      ]
    },
    {
      "cell_type": "markdown",
      "metadata": {
        "id": "RnagtfJZ5d9Y"
      },
      "source": [
        "###Clean Data"
      ]
    },
    {
      "cell_type": "markdown",
      "metadata": {
        "id": "iPCoWv4DHnfn"
      },
      "source": [
        "Удалим выбросы"
      ]
    },
    {
      "cell_type": "code",
      "metadata": {
        "id": "AB_IrE4cDJO8"
      },
      "source": [
        "df_cameras = df_cameras[df_cameras.amount != 60]"
      ],
      "execution_count": null,
      "outputs": []
    },
    {
      "cell_type": "markdown",
      "metadata": {
        "id": "IFzrpFEL5eAZ"
      },
      "source": [
        "###Construct Data & Format Data\n",
        "Требуется взять колонку 'address' и разделить ее, создав новые колонки 'city', 'street', 'house'. Приведем все адреса к нижнему регистру."
      ]
    },
    {
      "cell_type": "code",
      "metadata": {
        "id": "79yf5Jq0MsYP"
      },
      "source": [
        "df_cameras['address'] = df_cameras['address'].str.lower()"
      ],
      "execution_count": null,
      "outputs": []
    },
    {
      "cell_type": "markdown",
      "metadata": {
        "id": "2Srqh9YuNTsP"
      },
      "source": [
        "Унифицируем обозначения в адресах."
      ]
    },
    {
      "cell_type": "code",
      "metadata": {
        "id": "K4RZXnLINP2x"
      },
      "source": [
        "df_cameras['address'] = df_cameras['address'].replace({'ул. д.' : 'ул., д.'}, regex=True)\n",
        "df_cameras['address'] = df_cameras['address'].replace({'пр. д.' : 'пр., д.'}, regex=True)\n",
        "df_cameras['address'] = df_cameras['address'].replace({'пер. д.' : 'пер., д.'}, regex=True)\n",
        "df_cameras['address'] = df_cameras['address'].replace({'пр-д' : 'проезд'}, regex=True)\n",
        "df_cameras['address'] = df_cameras['address'].replace({'бул\\.' : 'бульвар'}, regex=True)\n",
        "df_cameras['address'] = df_cameras['address'].replace({'ул\\.' : 'улица'}, regex=True)\n",
        "df_cameras['address'] = df_cameras['address'].replace({'пр\\.' : 'проспект'}, regex=True)\n",
        "df_cameras['address'] = df_cameras['address'].replace({'пл\\.' : 'площадь'}, regex=True)\n",
        "df_cameras['address'] = df_cameras['address'].replace({'наб\\.' : 'набережная'}, regex=True)\n",
        "df_cameras['address'] = df_cameras['address'].replace({'кан\\.' : 'канала'}, regex=True)\n",
        "df_cameras['address'] = df_cameras['address'].replace({'ш\\.' : 'шоссе'}, regex=True)\n",
        "df_cameras['address'] = df_cameras['address'].replace({'пер\\.' : 'переулок'}, regex=True)\n",
        "df_cameras['address'] = df_cameras['address'].replace({'дор\\.' : 'дорога'}, regex=True)\n",
        "df_cameras['address'] = df_cameras['address'].replace({'алл\\.' : 'аллея'}, regex=True)"
      ],
      "execution_count": null,
      "outputs": []
    },
    {
      "cell_type": "markdown",
      "metadata": {
        "id": "Cw3FQuFENbxN"
      },
      "source": [
        "Удалим лишние адреса."
      ]
    },
    {
      "cell_type": "code",
      "metadata": {
        "id": "kmsFJgc2NaGR"
      },
      "source": [
        "street_pattern = r'улица|проспект|переулок|шоссе|площадь|набережная|бульвар|аллея|линия|дорога'\n",
        "\n",
        "df_filtered_cameras = df_cameras[df_cameras['address'].str.contains(street_pattern, na=False)]"
      ],
      "execution_count": null,
      "outputs": []
    },
    {
      "cell_type": "code",
      "metadata": {
        "colab": {
          "base_uri": "https://localhost:8080/",
          "height": 419
        },
        "id": "rNVKVsWJNf7G",
        "outputId": "36ff01da-825f-42b2-b9bd-d3a55612ab08"
      },
      "source": [
        "df_filtered_cameras"
      ],
      "execution_count": null,
      "outputs": [
        {
          "output_type": "execute_result",
          "data": {
            "text/html": [
              "<div>\n",
              "<style scoped>\n",
              "    .dataframe tbody tr th:only-of-type {\n",
              "        vertical-align: middle;\n",
              "    }\n",
              "\n",
              "    .dataframe tbody tr th {\n",
              "        vertical-align: top;\n",
              "    }\n",
              "\n",
              "    .dataframe thead th {\n",
              "        text-align: right;\n",
              "    }\n",
              "</style>\n",
              "<table border=\"1\" class=\"dataframe\">\n",
              "  <thead>\n",
              "    <tr style=\"text-align: right;\">\n",
              "      <th></th>\n",
              "      <th>district</th>\n",
              "      <th>address</th>\n",
              "      <th>amount</th>\n",
              "    </tr>\n",
              "  </thead>\n",
              "  <tbody>\n",
              "    <tr>\n",
              "      <th>0</th>\n",
              "      <td>Адмиралтейский</td>\n",
              "      <td>10-я красноармейская улица, д.3, к.9</td>\n",
              "      <td>7</td>\n",
              "    </tr>\n",
              "    <tr>\n",
              "      <th>1</th>\n",
              "      <td>Адмиралтейский</td>\n",
              "      <td>10-я красноармейская улица, д.8</td>\n",
              "      <td>3</td>\n",
              "    </tr>\n",
              "    <tr>\n",
              "      <th>2</th>\n",
              "      <td>Адмиралтейский</td>\n",
              "      <td>11-я красноармейская улица, д.9</td>\n",
              "      <td>3</td>\n",
              "    </tr>\n",
              "    <tr>\n",
              "      <th>3</th>\n",
              "      <td>Адмиралтейский</td>\n",
              "      <td>12-я красноармейская улица, д.1/21</td>\n",
              "      <td>1</td>\n",
              "    </tr>\n",
              "    <tr>\n",
              "      <th>4</th>\n",
              "      <td>Адмиралтейский</td>\n",
              "      <td>13-я красноармейская улица, д.14</td>\n",
              "      <td>3</td>\n",
              "    </tr>\n",
              "    <tr>\n",
              "      <th>...</th>\n",
              "      <td>...</td>\n",
              "      <td>...</td>\n",
              "      <td>...</td>\n",
              "    </tr>\n",
              "    <tr>\n",
              "      <th>9134</th>\n",
              "      <td>Центральный</td>\n",
              "      <td>шпалерная улица, д.60</td>\n",
              "      <td>1</td>\n",
              "    </tr>\n",
              "    <tr>\n",
              "      <th>9135</th>\n",
              "      <td>Центральный</td>\n",
              "      <td>шпалерная улица, д.8</td>\n",
              "      <td>2</td>\n",
              "    </tr>\n",
              "    <tr>\n",
              "      <th>9136</th>\n",
              "      <td>Центральный</td>\n",
              "      <td>шпалерная улица, д.54</td>\n",
              "      <td>1</td>\n",
              "    </tr>\n",
              "    <tr>\n",
              "      <th>9137</th>\n",
              "      <td>Центральный</td>\n",
              "      <td>щербаков переулок, д.1</td>\n",
              "      <td>3</td>\n",
              "    </tr>\n",
              "    <tr>\n",
              "      <th>9138</th>\n",
              "      <td>Центральный</td>\n",
              "      <td>щербаков переулок, д.15/34</td>\n",
              "      <td>1</td>\n",
              "    </tr>\n",
              "  </tbody>\n",
              "</table>\n",
              "<p>9014 rows × 3 columns</p>\n",
              "</div>"
            ],
            "text/plain": [
              "            district                               address  amount\n",
              "0     Адмиралтейский  10-я красноармейская улица, д.3, к.9       7\n",
              "1     Адмиралтейский       10-я красноармейская улица, д.8       3\n",
              "2     Адмиралтейский       11-я красноармейская улица, д.9       3\n",
              "3     Адмиралтейский    12-я красноармейская улица, д.1/21       1\n",
              "4     Адмиралтейский      13-я красноармейская улица, д.14       3\n",
              "...              ...                                   ...     ...\n",
              "9134     Центральный                 шпалерная улица, д.60       1\n",
              "9135     Центральный                  шпалерная улица, д.8       2\n",
              "9136     Центральный                 шпалерная улица, д.54       1\n",
              "9137     Центральный                щербаков переулок, д.1       3\n",
              "9138     Центральный            щербаков переулок, д.15/34       1\n",
              "\n",
              "[9014 rows x 3 columns]"
            ]
          },
          "metadata": {
            "tags": []
          },
          "execution_count": 31
        }
      ]
    },
    {
      "cell_type": "markdown",
      "metadata": {
        "id": "-YAi5HxwNnOP"
      },
      "source": [
        "Разделим адрес на части и заполним таблицу (с использованием регулярных выражений)"
      ]
    },
    {
      "cell_type": "code",
      "metadata": {
        "id": "P-APQ2iuNswo"
      },
      "source": [
        "import re\n",
        "\n",
        "district_arr =[]\n",
        "street_arr = []\n",
        "street_pattern = r'улица|проспект|переулок|шоссе|площадь|набережная|бульвар|аллея|линия|дорога'\n",
        "house_arr = []\n",
        "house_pattern = r'д\\.'\n",
        "amount_arr =[]\n",
        "\n",
        "\n",
        "for adress in df_filtered_cameras['address']:\n",
        "  coma_split_adress = adress.split(\",\")\n",
        "  new_street = \"-\"\n",
        "  new_house = '-'\n",
        "\n",
        "  for part in coma_split_adress:\n",
        "    if re.search(street_pattern, part):\n",
        "        new_street = part\n",
        "\n",
        "    if re.search(house_pattern, part):\n",
        "        new_house = part\n",
        "\n",
        "  if new_street == \"-\":\n",
        "    print(adress)\n",
        "\n",
        "  street_arr.append(new_street.strip(' '))\n",
        "  house_arr.append(new_house.strip(' '))\n",
        "\n",
        "for district in df_filtered_cameras['district']:\n",
        "    district_arr.append(district.strip(' '))\n",
        "\n",
        "for amount in df_filtered_cameras['amount']:\n",
        "    amount_arr.append(amount)\n",
        "\n",
        "df_cameras_adress = pd.DataFrame({\n",
        "    'city': 'санкт-петербург',\n",
        "    'district': district_arr,\n",
        "    'street': street_arr,\n",
        "    'house': house_arr,\n",
        "    'amount': amount_arr,\n",
        "    })\n",
        "\n",
        "df_cameras_adress['house'] = df_cameras_adress['house'].replace({'д.' : ''}, regex=True)\n",
        "df_cameras_adress['house'] = df_cameras_adress['house'].replace({' ' : ''}, regex=True)\n",
        "df_cameras_adress['street'] = df_cameras_adress['street'].replace({' р. ' : ' реки '}, regex=True)"
      ],
      "execution_count": null,
      "outputs": []
    },
    {
      "cell_type": "code",
      "metadata": {
        "colab": {
          "base_uri": "https://localhost:8080/",
          "height": 419
        },
        "id": "WWkBiJ8rNwPJ",
        "outputId": "e8a43c94-4dc3-4be3-b9f7-60bb645e11b6"
      },
      "source": [
        "df_cameras_adress"
      ],
      "execution_count": null,
      "outputs": [
        {
          "output_type": "execute_result",
          "data": {
            "text/html": [
              "<div>\n",
              "<style scoped>\n",
              "    .dataframe tbody tr th:only-of-type {\n",
              "        vertical-align: middle;\n",
              "    }\n",
              "\n",
              "    .dataframe tbody tr th {\n",
              "        vertical-align: top;\n",
              "    }\n",
              "\n",
              "    .dataframe thead th {\n",
              "        text-align: right;\n",
              "    }\n",
              "</style>\n",
              "<table border=\"1\" class=\"dataframe\">\n",
              "  <thead>\n",
              "    <tr style=\"text-align: right;\">\n",
              "      <th></th>\n",
              "      <th>city</th>\n",
              "      <th>district</th>\n",
              "      <th>street</th>\n",
              "      <th>house</th>\n",
              "      <th>amount</th>\n",
              "    </tr>\n",
              "  </thead>\n",
              "  <tbody>\n",
              "    <tr>\n",
              "      <th>0</th>\n",
              "      <td>санкт-петербург</td>\n",
              "      <td>Адмиралтейский</td>\n",
              "      <td>10-я красноармейская улица</td>\n",
              "      <td>3</td>\n",
              "      <td>7</td>\n",
              "    </tr>\n",
              "    <tr>\n",
              "      <th>1</th>\n",
              "      <td>санкт-петербург</td>\n",
              "      <td>Адмиралтейский</td>\n",
              "      <td>10-я красноармейская улица</td>\n",
              "      <td>8</td>\n",
              "      <td>3</td>\n",
              "    </tr>\n",
              "    <tr>\n",
              "      <th>2</th>\n",
              "      <td>санкт-петербург</td>\n",
              "      <td>Адмиралтейский</td>\n",
              "      <td>11-я красноармейская улица</td>\n",
              "      <td>9</td>\n",
              "      <td>3</td>\n",
              "    </tr>\n",
              "    <tr>\n",
              "      <th>3</th>\n",
              "      <td>санкт-петербург</td>\n",
              "      <td>Адмиралтейский</td>\n",
              "      <td>12-я красноармейская улица</td>\n",
              "      <td>1/21</td>\n",
              "      <td>1</td>\n",
              "    </tr>\n",
              "    <tr>\n",
              "      <th>4</th>\n",
              "      <td>санкт-петербург</td>\n",
              "      <td>Адмиралтейский</td>\n",
              "      <td>13-я красноармейская улица</td>\n",
              "      <td>14</td>\n",
              "      <td>3</td>\n",
              "    </tr>\n",
              "    <tr>\n",
              "      <th>...</th>\n",
              "      <td>...</td>\n",
              "      <td>...</td>\n",
              "      <td>...</td>\n",
              "      <td>...</td>\n",
              "      <td>...</td>\n",
              "    </tr>\n",
              "    <tr>\n",
              "      <th>9009</th>\n",
              "      <td>санкт-петербург</td>\n",
              "      <td>Центральный</td>\n",
              "      <td>шпалерная улица</td>\n",
              "      <td>60</td>\n",
              "      <td>1</td>\n",
              "    </tr>\n",
              "    <tr>\n",
              "      <th>9010</th>\n",
              "      <td>санкт-петербург</td>\n",
              "      <td>Центральный</td>\n",
              "      <td>шпалерная улица</td>\n",
              "      <td>8</td>\n",
              "      <td>2</td>\n",
              "    </tr>\n",
              "    <tr>\n",
              "      <th>9011</th>\n",
              "      <td>санкт-петербург</td>\n",
              "      <td>Центральный</td>\n",
              "      <td>шпалерная улица</td>\n",
              "      <td>54</td>\n",
              "      <td>1</td>\n",
              "    </tr>\n",
              "    <tr>\n",
              "      <th>9012</th>\n",
              "      <td>санкт-петербург</td>\n",
              "      <td>Центральный</td>\n",
              "      <td>щербаков переулок</td>\n",
              "      <td>1</td>\n",
              "      <td>3</td>\n",
              "    </tr>\n",
              "    <tr>\n",
              "      <th>9013</th>\n",
              "      <td>санкт-петербург</td>\n",
              "      <td>Центральный</td>\n",
              "      <td>щербаков переулок</td>\n",
              "      <td>15/34</td>\n",
              "      <td>1</td>\n",
              "    </tr>\n",
              "  </tbody>\n",
              "</table>\n",
              "<p>9014 rows × 5 columns</p>\n",
              "</div>"
            ],
            "text/plain": [
              "                 city        district  ...  house amount\n",
              "0     санкт-петербург  Адмиралтейский  ...      3      7\n",
              "1     санкт-петербург  Адмиралтейский  ...      8      3\n",
              "2     санкт-петербург  Адмиралтейский  ...      9      3\n",
              "3     санкт-петербург  Адмиралтейский  ...   1/21      1\n",
              "4     санкт-петербург  Адмиралтейский  ...     14      3\n",
              "...               ...             ...  ...    ...    ...\n",
              "9009  санкт-петербург     Центральный  ...     60      1\n",
              "9010  санкт-петербург     Центральный  ...      8      2\n",
              "9011  санкт-петербург     Центральный  ...     54      1\n",
              "9012  санкт-петербург     Центральный  ...      1      3\n",
              "9013  санкт-петербург     Центральный  ...  15/34      1\n",
              "\n",
              "[9014 rows x 5 columns]"
            ]
          },
          "metadata": {
            "tags": []
          },
          "execution_count": 33
        }
      ]
    },
    {
      "cell_type": "markdown",
      "metadata": {
        "id": "vU0fNpGRN8aY"
      },
      "source": [
        "Переместим наименования адресных объектов в столбце 'street' в начало строки."
      ]
    },
    {
      "cell_type": "code",
      "metadata": {
        "colab": {
          "base_uri": "https://localhost:8080/"
        },
        "id": "IVc5PRm1OHPK",
        "outputId": "356e6152-f8b1-4119-eb17-2dd85c2a7035"
      },
      "source": [
        "df_cameras_adress['clean_street']  = np.nan\n",
        "street_words = [' в.о.',' п.с.','улица','проспект','переулок','шоссе','площадь','реки ','канала','набережная','бульвар','аллея','линия','дорога']\n",
        "for row, addr in enumerate(df_cameras_adress['street']):\n",
        "  for i in range(len(street_words)):\n",
        "    if street_words[i] in addr:\n",
        "      addr = addr.replace(street_words[i], '')\n",
        "      addr = addr.strip()\n",
        "      addr = street_words[i].strip() + ' ' + addr\n",
        "      df_cameras_adress['clean_street'][row] = addr"
      ],
      "execution_count": null,
      "outputs": [
        {
          "output_type": "stream",
          "text": [
            "/usr/local/lib/python3.7/dist-packages/ipykernel_launcher.py:9: SettingWithCopyWarning: \n",
            "A value is trying to be set on a copy of a slice from a DataFrame\n",
            "\n",
            "See the caveats in the documentation: https://pandas.pydata.org/pandas-docs/stable/user_guide/indexing.html#returning-a-view-versus-a-copy\n",
            "  if __name__ == '__main__':\n",
            "/usr/local/lib/python3.7/dist-packages/pandas/core/indexing.py:670: SettingWithCopyWarning: \n",
            "A value is trying to be set on a copy of a slice from a DataFrame\n",
            "\n",
            "See the caveats in the documentation: https://pandas.pydata.org/pandas-docs/stable/user_guide/indexing.html#returning-a-view-versus-a-copy\n",
            "  iloc._setitem_with_indexer(indexer, value)\n"
          ],
          "name": "stderr"
        }
      ]
    },
    {
      "cell_type": "code",
      "metadata": {
        "colab": {
          "base_uri": "https://localhost:8080/",
          "height": 204
        },
        "id": "Vr12QT--OKRg",
        "outputId": "41dcfc18-1ffa-4b7b-fe6c-abce40c85d1f"
      },
      "source": [
        "df_cameras_adress.head()"
      ],
      "execution_count": null,
      "outputs": [
        {
          "output_type": "execute_result",
          "data": {
            "text/html": [
              "<div>\n",
              "<style scoped>\n",
              "    .dataframe tbody tr th:only-of-type {\n",
              "        vertical-align: middle;\n",
              "    }\n",
              "\n",
              "    .dataframe tbody tr th {\n",
              "        vertical-align: top;\n",
              "    }\n",
              "\n",
              "    .dataframe thead th {\n",
              "        text-align: right;\n",
              "    }\n",
              "</style>\n",
              "<table border=\"1\" class=\"dataframe\">\n",
              "  <thead>\n",
              "    <tr style=\"text-align: right;\">\n",
              "      <th></th>\n",
              "      <th>city</th>\n",
              "      <th>district</th>\n",
              "      <th>street</th>\n",
              "      <th>house</th>\n",
              "      <th>amount</th>\n",
              "      <th>clean_street</th>\n",
              "    </tr>\n",
              "  </thead>\n",
              "  <tbody>\n",
              "    <tr>\n",
              "      <th>0</th>\n",
              "      <td>санкт-петербург</td>\n",
              "      <td>Адмиралтейский</td>\n",
              "      <td>10-я красноармейская улица</td>\n",
              "      <td>3</td>\n",
              "      <td>7</td>\n",
              "      <td>улица 10-я красноармейская</td>\n",
              "    </tr>\n",
              "    <tr>\n",
              "      <th>1</th>\n",
              "      <td>санкт-петербург</td>\n",
              "      <td>Адмиралтейский</td>\n",
              "      <td>10-я красноармейская улица</td>\n",
              "      <td>8</td>\n",
              "      <td>3</td>\n",
              "      <td>улица 10-я красноармейская</td>\n",
              "    </tr>\n",
              "    <tr>\n",
              "      <th>2</th>\n",
              "      <td>санкт-петербург</td>\n",
              "      <td>Адмиралтейский</td>\n",
              "      <td>11-я красноармейская улица</td>\n",
              "      <td>9</td>\n",
              "      <td>3</td>\n",
              "      <td>улица 11-я красноармейская</td>\n",
              "    </tr>\n",
              "    <tr>\n",
              "      <th>3</th>\n",
              "      <td>санкт-петербург</td>\n",
              "      <td>Адмиралтейский</td>\n",
              "      <td>12-я красноармейская улица</td>\n",
              "      <td>1/21</td>\n",
              "      <td>1</td>\n",
              "      <td>улица 12-я красноармейская</td>\n",
              "    </tr>\n",
              "    <tr>\n",
              "      <th>4</th>\n",
              "      <td>санкт-петербург</td>\n",
              "      <td>Адмиралтейский</td>\n",
              "      <td>13-я красноармейская улица</td>\n",
              "      <td>14</td>\n",
              "      <td>3</td>\n",
              "      <td>улица 13-я красноармейская</td>\n",
              "    </tr>\n",
              "  </tbody>\n",
              "</table>\n",
              "</div>"
            ],
            "text/plain": [
              "              city        district  ... amount                clean_street\n",
              "0  санкт-петербург  Адмиралтейский  ...      7  улица 10-я красноармейская\n",
              "1  санкт-петербург  Адмиралтейский  ...      3  улица 10-я красноармейская\n",
              "2  санкт-петербург  Адмиралтейский  ...      3  улица 11-я красноармейская\n",
              "3  санкт-петербург  Адмиралтейский  ...      1  улица 12-я красноармейская\n",
              "4  санкт-петербург  Адмиралтейский  ...      3  улица 13-я красноармейская\n",
              "\n",
              "[5 rows x 6 columns]"
            ]
          },
          "metadata": {
            "tags": []
          },
          "execution_count": 35
        }
      ]
    },
    {
      "cell_type": "code",
      "metadata": {
        "colab": {
          "base_uri": "https://localhost:8080/",
          "height": 204
        },
        "id": "cbYm0CElOeh5",
        "outputId": "99422d0c-3bba-4656-f9af-1633d614f704"
      },
      "source": [
        "df_cameras_adress.dropna() \n",
        "df_cameras_adress.drop('street', axis=1, inplace=True)\n",
        "#df_cameras_adress.rename(columns={'street': 'dirty_street'}, inplace=True)\n",
        "df_cameras_adress.rename(columns={'clean_street': 'street'}, inplace=True)\n",
        "df_cameras_adress.head()"
      ],
      "execution_count": null,
      "outputs": [
        {
          "output_type": "execute_result",
          "data": {
            "text/html": [
              "<div>\n",
              "<style scoped>\n",
              "    .dataframe tbody tr th:only-of-type {\n",
              "        vertical-align: middle;\n",
              "    }\n",
              "\n",
              "    .dataframe tbody tr th {\n",
              "        vertical-align: top;\n",
              "    }\n",
              "\n",
              "    .dataframe thead th {\n",
              "        text-align: right;\n",
              "    }\n",
              "</style>\n",
              "<table border=\"1\" class=\"dataframe\">\n",
              "  <thead>\n",
              "    <tr style=\"text-align: right;\">\n",
              "      <th></th>\n",
              "      <th>city</th>\n",
              "      <th>district</th>\n",
              "      <th>house</th>\n",
              "      <th>amount</th>\n",
              "      <th>street</th>\n",
              "    </tr>\n",
              "  </thead>\n",
              "  <tbody>\n",
              "    <tr>\n",
              "      <th>0</th>\n",
              "      <td>санкт-петербург</td>\n",
              "      <td>Адмиралтейский</td>\n",
              "      <td>3</td>\n",
              "      <td>7</td>\n",
              "      <td>улица 10-я красноармейская</td>\n",
              "    </tr>\n",
              "    <tr>\n",
              "      <th>1</th>\n",
              "      <td>санкт-петербург</td>\n",
              "      <td>Адмиралтейский</td>\n",
              "      <td>8</td>\n",
              "      <td>3</td>\n",
              "      <td>улица 10-я красноармейская</td>\n",
              "    </tr>\n",
              "    <tr>\n",
              "      <th>2</th>\n",
              "      <td>санкт-петербург</td>\n",
              "      <td>Адмиралтейский</td>\n",
              "      <td>9</td>\n",
              "      <td>3</td>\n",
              "      <td>улица 11-я красноармейская</td>\n",
              "    </tr>\n",
              "    <tr>\n",
              "      <th>3</th>\n",
              "      <td>санкт-петербург</td>\n",
              "      <td>Адмиралтейский</td>\n",
              "      <td>1/21</td>\n",
              "      <td>1</td>\n",
              "      <td>улица 12-я красноармейская</td>\n",
              "    </tr>\n",
              "    <tr>\n",
              "      <th>4</th>\n",
              "      <td>санкт-петербург</td>\n",
              "      <td>Адмиралтейский</td>\n",
              "      <td>14</td>\n",
              "      <td>3</td>\n",
              "      <td>улица 13-я красноармейская</td>\n",
              "    </tr>\n",
              "  </tbody>\n",
              "</table>\n",
              "</div>"
            ],
            "text/plain": [
              "              city        district house  amount                      street\n",
              "0  санкт-петербург  Адмиралтейский     3       7  улица 10-я красноармейская\n",
              "1  санкт-петербург  Адмиралтейский     8       3  улица 10-я красноармейская\n",
              "2  санкт-петербург  Адмиралтейский     9       3  улица 11-я красноармейская\n",
              "3  санкт-петербург  Адмиралтейский  1/21       1  улица 12-я красноармейская\n",
              "4  санкт-петербург  Адмиралтейский    14       3  улица 13-я красноармейская"
            ]
          },
          "metadata": {
            "tags": []
          },
          "execution_count": 36
        }
      ]
    },
    {
      "cell_type": "markdown",
      "metadata": {
        "id": "eC0e2FRPKalJ"
      },
      "source": [
        "## Датасет №2"
      ]
    },
    {
      "cell_type": "markdown",
      "metadata": {
        "id": "-xC8dyT6KLsU"
      },
      "source": [
        "###Select Data"
      ]
    },
    {
      "cell_type": "code",
      "metadata": {
        "colab": {
          "base_uri": "https://localhost:8080/",
          "height": 204
        },
        "id": "8cNgBxrbLi-p",
        "outputId": "1f48c10e-091a-4ede-84d6-14ef9fb27589"
      },
      "source": [
        "df_business.drop(['document', 'status', 'cadastral_number', 'obj_id'], axis=1, inplace=True)\n",
        "df_business.head()"
      ],
      "execution_count": null,
      "outputs": [
        {
          "output_type": "execute_result",
          "data": {
            "text/html": [
              "<div>\n",
              "<style scoped>\n",
              "    .dataframe tbody tr th:only-of-type {\n",
              "        vertical-align: middle;\n",
              "    }\n",
              "\n",
              "    .dataframe tbody tr th {\n",
              "        vertical-align: top;\n",
              "    }\n",
              "\n",
              "    .dataframe thead th {\n",
              "        text-align: right;\n",
              "    }\n",
              "</style>\n",
              "<table border=\"1\" class=\"dataframe\">\n",
              "  <thead>\n",
              "    <tr style=\"text-align: right;\">\n",
              "      <th></th>\n",
              "      <th>district</th>\n",
              "      <th>address</th>\n",
              "      <th>type</th>\n",
              "      <th>area</th>\n",
              "    </tr>\n",
              "  </thead>\n",
              "  <tbody>\n",
              "    <tr>\n",
              "      <th>0</th>\n",
              "      <td>Калининский</td>\n",
              "      <td>195009, г.Санкт-Петербург, улица Комсомола, д....</td>\n",
              "      <td>помещение</td>\n",
              "      <td>262.7</td>\n",
              "    </tr>\n",
              "    <tr>\n",
              "      <th>1</th>\n",
              "      <td>Центральный</td>\n",
              "      <td>191104, г.Санкт-Петербург, улица Жуковского, д...</td>\n",
              "      <td>часть помещения</td>\n",
              "      <td>108.2</td>\n",
              "    </tr>\n",
              "    <tr>\n",
              "      <th>2</th>\n",
              "      <td>Центральный</td>\n",
              "      <td>191025, г.Санкт-Петербург, улица Маяковского, ...</td>\n",
              "      <td>помещение</td>\n",
              "      <td>100.8</td>\n",
              "    </tr>\n",
              "    <tr>\n",
              "      <th>3</th>\n",
              "      <td>Центральный</td>\n",
              "      <td>191025, г.Санкт-Петербург, улица Маяковского, ...</td>\n",
              "      <td>помещение</td>\n",
              "      <td>101.6</td>\n",
              "    </tr>\n",
              "    <tr>\n",
              "      <th>4</th>\n",
              "      <td>Центральный</td>\n",
              "      <td>191123, г.Санкт-Петербург, Кирочная улица, д. ...</td>\n",
              "      <td>помещение</td>\n",
              "      <td>319.2</td>\n",
              "    </tr>\n",
              "  </tbody>\n",
              "</table>\n",
              "</div>"
            ],
            "text/plain": [
              "      district  ...   area\n",
              "0  Калининский  ...  262.7\n",
              "1  Центральный  ...  108.2\n",
              "2  Центральный  ...  100.8\n",
              "3  Центральный  ...  101.6\n",
              "4  Центральный  ...  319.2\n",
              "\n",
              "[5 rows x 4 columns]"
            ]
          },
          "metadata": {
            "tags": []
          },
          "execution_count": 37
        }
      ]
    },
    {
      "cell_type": "markdown",
      "metadata": {
        "id": "NfKQRw9tKAEq"
      },
      "source": [
        "###Clean Data"
      ]
    },
    {
      "cell_type": "markdown",
      "metadata": {
        "id": "Fd30OpP0yXIX"
      },
      "source": [
        "Удаляем дубликаты."
      ]
    },
    {
      "cell_type": "code",
      "metadata": {
        "id": "tFsJ7V_FGs4A"
      },
      "source": [
        "key = ['district', 'address', 'type', 'area']\n",
        "df_business = df_business.drop_duplicates(subset=key)"
      ],
      "execution_count": null,
      "outputs": []
    },
    {
      "cell_type": "markdown",
      "metadata": {
        "id": "6xEQDkWuKGw7"
      },
      "source": [
        "###Construct Data & Format Data\n",
        "Требуется взять колонку 'address' и разделить ее, создав новые колонки 'city', 'street', 'house'. Приведем все адреса к нижнему регистру."
      ]
    },
    {
      "cell_type": "code",
      "metadata": {
        "id": "WfiIywv5NCJL"
      },
      "source": [
        "df_business['address'] = df_business['address'].str.lower()"
      ],
      "execution_count": null,
      "outputs": []
    },
    {
      "cell_type": "markdown",
      "metadata": {
        "id": "ynmqhVetNVSW"
      },
      "source": [
        "Разделим адрес на части и заполним таблицу (с использованием регулярных выражений)"
      ]
    },
    {
      "cell_type": "code",
      "metadata": {
        "id": "XFBJ05UDPHbI"
      },
      "source": [
        "district_arr = []\n",
        "street_arr = []\n",
        "street_pattern = r'улица|проспект|переулок|шоссе|площадь|набережная|бульвар|аллея|линия|дорога'\n",
        "city_arr = []\n",
        "city_pattern = r'санкт-петербург$'\n",
        "index_arr = []\n",
        "index_pattern = r'[0-9]{5}'\n",
        "house_arr = []\n",
        "house_pattern = r'д\\.'\n",
        "type_arr = []\n",
        "area_arr = []\n",
        "\n",
        "for adress in df_business['address']:\n",
        "  coma_split_adress = adress.split(\",\")\n",
        "  new_street = \"-\"\n",
        "  new_city = \"-\"\n",
        "  new_index = \"-\"\n",
        "  new_house = '-'\n",
        "\n",
        "  for part in coma_split_adress:\n",
        "    if re.search(index_pattern, part):\n",
        "      new_index = part\n",
        "    \n",
        "    if re.search(street_pattern, part):\n",
        "      new_street = part\n",
        "\n",
        "    if re.search(city_pattern, part):\n",
        "      new_city = part\n",
        "\n",
        "    if re.search(house_pattern, part):\n",
        "      new_house = part\n",
        "\n",
        "  street_arr.append(new_street.strip(' '))\n",
        "  city_arr.append(new_city.strip(' '))\n",
        "  index_arr.append(new_index.strip(' '))\n",
        "  house_arr.append(new_house.strip(' '))\n",
        "\n",
        "for district in df_business['district']:\n",
        "    district_arr.append(district.strip(' '))\n",
        "\n",
        "for atype in df_business['type']:\n",
        "    type_arr.append(atype.strip(' '))\n",
        "\n",
        "for area in df_business['area']:\n",
        "    area_arr.append(area)\n",
        "\n",
        "df_business_adress = pd.DataFrame({\n",
        "    'index': index_arr,\n",
        "    'city': city_arr,\n",
        "    'district': district_arr,\n",
        "    'street': street_arr,\n",
        "    'house': house_arr,\n",
        "    'type': type_arr,\n",
        "    'area': area_arr,\n",
        "    })\n",
        "\n",
        "df_business_adress['house'] = df_business_adress['house'].replace({'д.' : ''}, regex=True)\n",
        "df_business_adress['house'] = df_business_adress['house'].replace({' ' : ''}, regex=True)\n",
        "df_business_adress['city'] = df_business_adress['city'].replace({'г.' : ''}, regex=True)"
      ],
      "execution_count": null,
      "outputs": []
    },
    {
      "cell_type": "code",
      "metadata": {
        "colab": {
          "base_uri": "https://localhost:8080/",
          "height": 204
        },
        "id": "XhHzIujkPNOC",
        "outputId": "b9bd49de-228a-4d3b-b189-8fd524b49525"
      },
      "source": [
        "df_business_adress.head()"
      ],
      "execution_count": null,
      "outputs": [
        {
          "output_type": "execute_result",
          "data": {
            "text/html": [
              "<div>\n",
              "<style scoped>\n",
              "    .dataframe tbody tr th:only-of-type {\n",
              "        vertical-align: middle;\n",
              "    }\n",
              "\n",
              "    .dataframe tbody tr th {\n",
              "        vertical-align: top;\n",
              "    }\n",
              "\n",
              "    .dataframe thead th {\n",
              "        text-align: right;\n",
              "    }\n",
              "</style>\n",
              "<table border=\"1\" class=\"dataframe\">\n",
              "  <thead>\n",
              "    <tr style=\"text-align: right;\">\n",
              "      <th></th>\n",
              "      <th>index</th>\n",
              "      <th>city</th>\n",
              "      <th>district</th>\n",
              "      <th>street</th>\n",
              "      <th>house</th>\n",
              "      <th>type</th>\n",
              "      <th>area</th>\n",
              "    </tr>\n",
              "  </thead>\n",
              "  <tbody>\n",
              "    <tr>\n",
              "      <th>0</th>\n",
              "      <td>195009</td>\n",
              "      <td>санкт-петербург</td>\n",
              "      <td>Калининский</td>\n",
              "      <td>улица комсомола</td>\n",
              "      <td>33</td>\n",
              "      <td>помещение</td>\n",
              "      <td>262.7</td>\n",
              "    </tr>\n",
              "    <tr>\n",
              "      <th>1</th>\n",
              "      <td>191104</td>\n",
              "      <td>санкт-петербург</td>\n",
              "      <td>Центральный</td>\n",
              "      <td>улица жуковского</td>\n",
              "      <td>7-9</td>\n",
              "      <td>часть помещения</td>\n",
              "      <td>108.2</td>\n",
              "    </tr>\n",
              "    <tr>\n",
              "      <th>2</th>\n",
              "      <td>191025</td>\n",
              "      <td>санкт-петербург</td>\n",
              "      <td>Центральный</td>\n",
              "      <td>улица маяковского</td>\n",
              "      <td>2/94</td>\n",
              "      <td>помещение</td>\n",
              "      <td>100.8</td>\n",
              "    </tr>\n",
              "    <tr>\n",
              "      <th>3</th>\n",
              "      <td>191025</td>\n",
              "      <td>санкт-петербург</td>\n",
              "      <td>Центральный</td>\n",
              "      <td>улица маяковского</td>\n",
              "      <td>4</td>\n",
              "      <td>помещение</td>\n",
              "      <td>101.6</td>\n",
              "    </tr>\n",
              "    <tr>\n",
              "      <th>4</th>\n",
              "      <td>191123</td>\n",
              "      <td>санкт-петербург</td>\n",
              "      <td>Центральный</td>\n",
              "      <td>кирочная улица</td>\n",
              "      <td>23</td>\n",
              "      <td>помещение</td>\n",
              "      <td>319.2</td>\n",
              "    </tr>\n",
              "  </tbody>\n",
              "</table>\n",
              "</div>"
            ],
            "text/plain": [
              "    index             city     district  ... house             type   area\n",
              "0  195009  санкт-петербург  Калининский  ...    33        помещение  262.7\n",
              "1  191104  санкт-петербург  Центральный  ...   7-9  часть помещения  108.2\n",
              "2  191025  санкт-петербург  Центральный  ...  2/94        помещение  100.8\n",
              "3  191025  санкт-петербург  Центральный  ...     4        помещение  101.6\n",
              "4  191123  санкт-петербург  Центральный  ...    23        помещение  319.2\n",
              "\n",
              "[5 rows x 7 columns]"
            ]
          },
          "metadata": {
            "tags": []
          },
          "execution_count": 41
        }
      ]
    },
    {
      "cell_type": "markdown",
      "metadata": {
        "id": "gqnE9shGPX-x"
      },
      "source": [
        "Переместим наименования адресных объектов в столбце 'street' в начало строки."
      ]
    },
    {
      "cell_type": "code",
      "metadata": {
        "colab": {
          "base_uri": "https://localhost:8080/"
        },
        "id": "dCQS8ZHLPSrd",
        "outputId": "37045e08-b3d5-49f6-aeb7-7218bc996cd3"
      },
      "source": [
        "df_business_adress['clean_street']  = np.nan\n",
        "street_words = [' в.о.',' п.с.','улица','проспект','переулок','шоссе','площадь',' канала','набережная ','бульвар','аллея','линия','дорога']\n",
        "for row, addr in enumerate(df_business_adress['street']):\n",
        "  for i in range(len(street_words)):\n",
        "    if street_words[i] in addr:\n",
        "      addr = addr.replace(street_words[i], '')\n",
        "      addr = addr.strip()\n",
        "      addr = street_words[i].strip() + ' ' + addr\n",
        "      df_business_adress['clean_street'][row] = addr"
      ],
      "execution_count": null,
      "outputs": [
        {
          "output_type": "stream",
          "text": [
            "/usr/local/lib/python3.7/dist-packages/ipykernel_launcher.py:9: SettingWithCopyWarning: \n",
            "A value is trying to be set on a copy of a slice from a DataFrame\n",
            "\n",
            "See the caveats in the documentation: https://pandas.pydata.org/pandas-docs/stable/user_guide/indexing.html#returning-a-view-versus-a-copy\n",
            "  if __name__ == '__main__':\n",
            "/usr/local/lib/python3.7/dist-packages/pandas/core/indexing.py:670: SettingWithCopyWarning: \n",
            "A value is trying to be set on a copy of a slice from a DataFrame\n",
            "\n",
            "See the caveats in the documentation: https://pandas.pydata.org/pandas-docs/stable/user_guide/indexing.html#returning-a-view-versus-a-copy\n",
            "  iloc._setitem_with_indexer(indexer, value)\n"
          ],
          "name": "stderr"
        }
      ]
    },
    {
      "cell_type": "code",
      "metadata": {
        "colab": {
          "base_uri": "https://localhost:8080/",
          "height": 204
        },
        "id": "Q-Qa47B_PkBP",
        "outputId": "9945eb9e-2457-4049-e72f-bfd45267e250"
      },
      "source": [
        "df_business_adress.head()"
      ],
      "execution_count": null,
      "outputs": [
        {
          "output_type": "execute_result",
          "data": {
            "text/html": [
              "<div>\n",
              "<style scoped>\n",
              "    .dataframe tbody tr th:only-of-type {\n",
              "        vertical-align: middle;\n",
              "    }\n",
              "\n",
              "    .dataframe tbody tr th {\n",
              "        vertical-align: top;\n",
              "    }\n",
              "\n",
              "    .dataframe thead th {\n",
              "        text-align: right;\n",
              "    }\n",
              "</style>\n",
              "<table border=\"1\" class=\"dataframe\">\n",
              "  <thead>\n",
              "    <tr style=\"text-align: right;\">\n",
              "      <th></th>\n",
              "      <th>index</th>\n",
              "      <th>city</th>\n",
              "      <th>district</th>\n",
              "      <th>street</th>\n",
              "      <th>house</th>\n",
              "      <th>type</th>\n",
              "      <th>area</th>\n",
              "      <th>clean_street</th>\n",
              "    </tr>\n",
              "  </thead>\n",
              "  <tbody>\n",
              "    <tr>\n",
              "      <th>0</th>\n",
              "      <td>195009</td>\n",
              "      <td>санкт-петербург</td>\n",
              "      <td>Калининский</td>\n",
              "      <td>улица комсомола</td>\n",
              "      <td>33</td>\n",
              "      <td>помещение</td>\n",
              "      <td>262.7</td>\n",
              "      <td>улица комсомола</td>\n",
              "    </tr>\n",
              "    <tr>\n",
              "      <th>1</th>\n",
              "      <td>191104</td>\n",
              "      <td>санкт-петербург</td>\n",
              "      <td>Центральный</td>\n",
              "      <td>улица жуковского</td>\n",
              "      <td>7-9</td>\n",
              "      <td>часть помещения</td>\n",
              "      <td>108.2</td>\n",
              "      <td>улица жуковского</td>\n",
              "    </tr>\n",
              "    <tr>\n",
              "      <th>2</th>\n",
              "      <td>191025</td>\n",
              "      <td>санкт-петербург</td>\n",
              "      <td>Центральный</td>\n",
              "      <td>улица маяковского</td>\n",
              "      <td>2/94</td>\n",
              "      <td>помещение</td>\n",
              "      <td>100.8</td>\n",
              "      <td>улица маяковского</td>\n",
              "    </tr>\n",
              "    <tr>\n",
              "      <th>3</th>\n",
              "      <td>191025</td>\n",
              "      <td>санкт-петербург</td>\n",
              "      <td>Центральный</td>\n",
              "      <td>улица маяковского</td>\n",
              "      <td>4</td>\n",
              "      <td>помещение</td>\n",
              "      <td>101.6</td>\n",
              "      <td>улица маяковского</td>\n",
              "    </tr>\n",
              "    <tr>\n",
              "      <th>4</th>\n",
              "      <td>191123</td>\n",
              "      <td>санкт-петербург</td>\n",
              "      <td>Центральный</td>\n",
              "      <td>кирочная улица</td>\n",
              "      <td>23</td>\n",
              "      <td>помещение</td>\n",
              "      <td>319.2</td>\n",
              "      <td>улица кирочная</td>\n",
              "    </tr>\n",
              "  </tbody>\n",
              "</table>\n",
              "</div>"
            ],
            "text/plain": [
              "    index             city  ...   area       clean_street\n",
              "0  195009  санкт-петербург  ...  262.7    улица комсомола\n",
              "1  191104  санкт-петербург  ...  108.2   улица жуковского\n",
              "2  191025  санкт-петербург  ...  100.8  улица маяковского\n",
              "3  191025  санкт-петербург  ...  101.6  улица маяковского\n",
              "4  191123  санкт-петербург  ...  319.2     улица кирочная\n",
              "\n",
              "[5 rows x 8 columns]"
            ]
          },
          "metadata": {
            "tags": []
          },
          "execution_count": 43
        }
      ]
    },
    {
      "cell_type": "code",
      "metadata": {
        "colab": {
          "base_uri": "https://localhost:8080/",
          "height": 204
        },
        "id": "I4RSFAFWPc0q",
        "outputId": "14e9c012-472e-47fb-ed06-5a37bdf0def0"
      },
      "source": [
        "df_business_adress.dropna() \n",
        "df_business_adress.drop('street', axis=1, inplace=True)\n",
        "#df_business_adress.rename(columns={'street': 'dirty_street'}, inplace=True)\n",
        "df_business_adress.rename(columns={'clean_street': 'street'}, inplace=True)\n",
        "df_business_adress.head()"
      ],
      "execution_count": null,
      "outputs": [
        {
          "output_type": "execute_result",
          "data": {
            "text/html": [
              "<div>\n",
              "<style scoped>\n",
              "    .dataframe tbody tr th:only-of-type {\n",
              "        vertical-align: middle;\n",
              "    }\n",
              "\n",
              "    .dataframe tbody tr th {\n",
              "        vertical-align: top;\n",
              "    }\n",
              "\n",
              "    .dataframe thead th {\n",
              "        text-align: right;\n",
              "    }\n",
              "</style>\n",
              "<table border=\"1\" class=\"dataframe\">\n",
              "  <thead>\n",
              "    <tr style=\"text-align: right;\">\n",
              "      <th></th>\n",
              "      <th>index</th>\n",
              "      <th>city</th>\n",
              "      <th>district</th>\n",
              "      <th>house</th>\n",
              "      <th>type</th>\n",
              "      <th>area</th>\n",
              "      <th>street</th>\n",
              "    </tr>\n",
              "  </thead>\n",
              "  <tbody>\n",
              "    <tr>\n",
              "      <th>0</th>\n",
              "      <td>195009</td>\n",
              "      <td>санкт-петербург</td>\n",
              "      <td>Калининский</td>\n",
              "      <td>33</td>\n",
              "      <td>помещение</td>\n",
              "      <td>262.7</td>\n",
              "      <td>улица комсомола</td>\n",
              "    </tr>\n",
              "    <tr>\n",
              "      <th>1</th>\n",
              "      <td>191104</td>\n",
              "      <td>санкт-петербург</td>\n",
              "      <td>Центральный</td>\n",
              "      <td>7-9</td>\n",
              "      <td>часть помещения</td>\n",
              "      <td>108.2</td>\n",
              "      <td>улица жуковского</td>\n",
              "    </tr>\n",
              "    <tr>\n",
              "      <th>2</th>\n",
              "      <td>191025</td>\n",
              "      <td>санкт-петербург</td>\n",
              "      <td>Центральный</td>\n",
              "      <td>2/94</td>\n",
              "      <td>помещение</td>\n",
              "      <td>100.8</td>\n",
              "      <td>улица маяковского</td>\n",
              "    </tr>\n",
              "    <tr>\n",
              "      <th>3</th>\n",
              "      <td>191025</td>\n",
              "      <td>санкт-петербург</td>\n",
              "      <td>Центральный</td>\n",
              "      <td>4</td>\n",
              "      <td>помещение</td>\n",
              "      <td>101.6</td>\n",
              "      <td>улица маяковского</td>\n",
              "    </tr>\n",
              "    <tr>\n",
              "      <th>4</th>\n",
              "      <td>191123</td>\n",
              "      <td>санкт-петербург</td>\n",
              "      <td>Центральный</td>\n",
              "      <td>23</td>\n",
              "      <td>помещение</td>\n",
              "      <td>319.2</td>\n",
              "      <td>улица кирочная</td>\n",
              "    </tr>\n",
              "  </tbody>\n",
              "</table>\n",
              "</div>"
            ],
            "text/plain": [
              "    index             city  ...   area             street\n",
              "0  195009  санкт-петербург  ...  262.7    улица комсомола\n",
              "1  191104  санкт-петербург  ...  108.2   улица жуковского\n",
              "2  191025  санкт-петербург  ...  100.8  улица маяковского\n",
              "3  191025  санкт-петербург  ...  101.6  улица маяковского\n",
              "4  191123  санкт-петербург  ...  319.2     улица кирочная\n",
              "\n",
              "[5 rows x 7 columns]"
            ]
          },
          "metadata": {
            "tags": []
          },
          "execution_count": 44
        }
      ]
    },
    {
      "cell_type": "markdown",
      "metadata": {
        "id": "txSBaHfn5eDO"
      },
      "source": [
        "##Integrate Data"
      ]
    },
    {
      "cell_type": "code",
      "metadata": {
        "colab": {
          "base_uri": "https://localhost:8080/",
          "height": 204
        },
        "id": "JAKII6or0kre",
        "outputId": "e81aa6ae-2761-400e-903f-d47b6f5a7c8d"
      },
      "source": [
        "df_business_adress['index_col'] = df_business_adress.index\n",
        "df_business_adress.head()"
      ],
      "execution_count": null,
      "outputs": [
        {
          "output_type": "execute_result",
          "data": {
            "text/html": [
              "<div>\n",
              "<style scoped>\n",
              "    .dataframe tbody tr th:only-of-type {\n",
              "        vertical-align: middle;\n",
              "    }\n",
              "\n",
              "    .dataframe tbody tr th {\n",
              "        vertical-align: top;\n",
              "    }\n",
              "\n",
              "    .dataframe thead th {\n",
              "        text-align: right;\n",
              "    }\n",
              "</style>\n",
              "<table border=\"1\" class=\"dataframe\">\n",
              "  <thead>\n",
              "    <tr style=\"text-align: right;\">\n",
              "      <th></th>\n",
              "      <th>index</th>\n",
              "      <th>city</th>\n",
              "      <th>district</th>\n",
              "      <th>house</th>\n",
              "      <th>type</th>\n",
              "      <th>area</th>\n",
              "      <th>street</th>\n",
              "      <th>index_col</th>\n",
              "    </tr>\n",
              "  </thead>\n",
              "  <tbody>\n",
              "    <tr>\n",
              "      <th>0</th>\n",
              "      <td>195009</td>\n",
              "      <td>санкт-петербург</td>\n",
              "      <td>Калининский</td>\n",
              "      <td>33</td>\n",
              "      <td>помещение</td>\n",
              "      <td>262.7</td>\n",
              "      <td>улица комсомола</td>\n",
              "      <td>0</td>\n",
              "    </tr>\n",
              "    <tr>\n",
              "      <th>1</th>\n",
              "      <td>191104</td>\n",
              "      <td>санкт-петербург</td>\n",
              "      <td>Центральный</td>\n",
              "      <td>7-9</td>\n",
              "      <td>часть помещения</td>\n",
              "      <td>108.2</td>\n",
              "      <td>улица жуковского</td>\n",
              "      <td>1</td>\n",
              "    </tr>\n",
              "    <tr>\n",
              "      <th>2</th>\n",
              "      <td>191025</td>\n",
              "      <td>санкт-петербург</td>\n",
              "      <td>Центральный</td>\n",
              "      <td>2/94</td>\n",
              "      <td>помещение</td>\n",
              "      <td>100.8</td>\n",
              "      <td>улица маяковского</td>\n",
              "      <td>2</td>\n",
              "    </tr>\n",
              "    <tr>\n",
              "      <th>3</th>\n",
              "      <td>191025</td>\n",
              "      <td>санкт-петербург</td>\n",
              "      <td>Центральный</td>\n",
              "      <td>4</td>\n",
              "      <td>помещение</td>\n",
              "      <td>101.6</td>\n",
              "      <td>улица маяковского</td>\n",
              "      <td>3</td>\n",
              "    </tr>\n",
              "    <tr>\n",
              "      <th>4</th>\n",
              "      <td>191123</td>\n",
              "      <td>санкт-петербург</td>\n",
              "      <td>Центральный</td>\n",
              "      <td>23</td>\n",
              "      <td>помещение</td>\n",
              "      <td>319.2</td>\n",
              "      <td>улица кирочная</td>\n",
              "      <td>4</td>\n",
              "    </tr>\n",
              "  </tbody>\n",
              "</table>\n",
              "</div>"
            ],
            "text/plain": [
              "    index             city     district  ...   area             street  index_col\n",
              "0  195009  санкт-петербург  Калининский  ...  262.7    улица комсомола          0\n",
              "1  191104  санкт-петербург  Центральный  ...  108.2   улица жуковского          1\n",
              "2  191025  санкт-петербург  Центральный  ...  100.8  улица маяковского          2\n",
              "3  191025  санкт-петербург  Центральный  ...  101.6  улица маяковского          3\n",
              "4  191123  санкт-петербург  Центральный  ...  319.2     улица кирочная          4\n",
              "\n",
              "[5 rows x 8 columns]"
            ]
          },
          "metadata": {
            "tags": []
          },
          "execution_count": 45
        }
      ]
    },
    {
      "cell_type": "code",
      "metadata": {
        "colab": {
          "base_uri": "https://localhost:8080/",
          "height": 204
        },
        "id": "B3XieO3yQC96",
        "outputId": "bd05ca7a-e445-4812-a469-bd934a927acc"
      },
      "source": [
        "training_data = df_cameras_adress.merge(df_business_adress, on=['street', 'house'])\n",
        "training_data.head()"
      ],
      "execution_count": null,
      "outputs": [
        {
          "output_type": "execute_result",
          "data": {
            "text/html": [
              "<div>\n",
              "<style scoped>\n",
              "    .dataframe tbody tr th:only-of-type {\n",
              "        vertical-align: middle;\n",
              "    }\n",
              "\n",
              "    .dataframe tbody tr th {\n",
              "        vertical-align: top;\n",
              "    }\n",
              "\n",
              "    .dataframe thead th {\n",
              "        text-align: right;\n",
              "    }\n",
              "</style>\n",
              "<table border=\"1\" class=\"dataframe\">\n",
              "  <thead>\n",
              "    <tr style=\"text-align: right;\">\n",
              "      <th></th>\n",
              "      <th>city_x</th>\n",
              "      <th>district_x</th>\n",
              "      <th>house</th>\n",
              "      <th>amount</th>\n",
              "      <th>street</th>\n",
              "      <th>index</th>\n",
              "      <th>city_y</th>\n",
              "      <th>district_y</th>\n",
              "      <th>type</th>\n",
              "      <th>area</th>\n",
              "      <th>index_col</th>\n",
              "    </tr>\n",
              "  </thead>\n",
              "  <tbody>\n",
              "    <tr>\n",
              "      <th>0</th>\n",
              "      <td>санкт-петербург</td>\n",
              "      <td>Адмиралтейский</td>\n",
              "      <td>7</td>\n",
              "      <td>2</td>\n",
              "      <td>набережная канала адмиралтейского</td>\n",
              "      <td>190000</td>\n",
              "      <td>санкт-петербург</td>\n",
              "      <td>Адмиралтейский</td>\n",
              "      <td>помещение</td>\n",
              "      <td>143.2</td>\n",
              "      <td>1243</td>\n",
              "    </tr>\n",
              "    <tr>\n",
              "      <th>1</th>\n",
              "      <td>санкт-петербург</td>\n",
              "      <td>Адмиралтейский</td>\n",
              "      <td>40</td>\n",
              "      <td>4</td>\n",
              "      <td>проспект английский</td>\n",
              "      <td>190068</td>\n",
              "      <td>санкт-петербург</td>\n",
              "      <td>Адмиралтейский</td>\n",
              "      <td>помещение</td>\n",
              "      <td>335.3</td>\n",
              "      <td>2348</td>\n",
              "    </tr>\n",
              "    <tr>\n",
              "      <th>2</th>\n",
              "      <td>санкт-петербург</td>\n",
              "      <td>Адмиралтейский</td>\n",
              "      <td>11</td>\n",
              "      <td>2</td>\n",
              "      <td>улица большая морская</td>\n",
              "      <td>191186</td>\n",
              "      <td>санкт-петербург</td>\n",
              "      <td>Центральный</td>\n",
              "      <td>помещение</td>\n",
              "      <td>216.5</td>\n",
              "      <td>1724</td>\n",
              "    </tr>\n",
              "    <tr>\n",
              "      <th>3</th>\n",
              "      <td>санкт-петербург</td>\n",
              "      <td>Адмиралтейский</td>\n",
              "      <td>40</td>\n",
              "      <td>1</td>\n",
              "      <td>улица большая морская</td>\n",
              "      <td>190000</td>\n",
              "      <td>санкт-петербург</td>\n",
              "      <td>Адмиралтейский</td>\n",
              "      <td>помещение</td>\n",
              "      <td>3420.9</td>\n",
              "      <td>784</td>\n",
              "    </tr>\n",
              "    <tr>\n",
              "      <th>4</th>\n",
              "      <td>санкт-петербург</td>\n",
              "      <td>Адмиралтейский</td>\n",
              "      <td>1/61</td>\n",
              "      <td>3</td>\n",
              "      <td>переулок большой казачий</td>\n",
              "      <td>191180</td>\n",
              "      <td>санкт-петербург</td>\n",
              "      <td>Адмиралтейский</td>\n",
              "      <td>помещение</td>\n",
              "      <td>266.8</td>\n",
              "      <td>820</td>\n",
              "    </tr>\n",
              "  </tbody>\n",
              "</table>\n",
              "</div>"
            ],
            "text/plain": [
              "            city_x      district_x house  ...       type    area index_col\n",
              "0  санкт-петербург  Адмиралтейский     7  ...  помещение   143.2      1243\n",
              "1  санкт-петербург  Адмиралтейский    40  ...  помещение   335.3      2348\n",
              "2  санкт-петербург  Адмиралтейский    11  ...  помещение   216.5      1724\n",
              "3  санкт-петербург  Адмиралтейский    40  ...  помещение  3420.9       784\n",
              "4  санкт-петербург  Адмиралтейский  1/61  ...  помещение   266.8       820\n",
              "\n",
              "[5 rows x 11 columns]"
            ]
          },
          "metadata": {
            "tags": []
          },
          "execution_count": 46
        }
      ]
    },
    {
      "cell_type": "code",
      "metadata": {
        "colab": {
          "base_uri": "https://localhost:8080/"
        },
        "id": "gLh_4mFwwZw1",
        "outputId": "e591296e-f166-4d86-f4f6-760aed3eccd7"
      },
      "source": [
        "training_data.info()"
      ],
      "execution_count": null,
      "outputs": [
        {
          "output_type": "stream",
          "text": [
            "<class 'pandas.core.frame.DataFrame'>\n",
            "Int64Index: 1050 entries, 0 to 1049\n",
            "Data columns (total 11 columns):\n",
            " #   Column      Non-Null Count  Dtype  \n",
            "---  ------      --------------  -----  \n",
            " 0   city_x      1050 non-null   object \n",
            " 1   district_x  1050 non-null   object \n",
            " 2   house       1050 non-null   object \n",
            " 3   amount      1050 non-null   int64  \n",
            " 4   street      1050 non-null   object \n",
            " 5   index       1050 non-null   object \n",
            " 6   city_y      1050 non-null   object \n",
            " 7   district_y  1050 non-null   object \n",
            " 8   type        1050 non-null   object \n",
            " 9   area        1050 non-null   float64\n",
            " 10  index_col   1050 non-null   int64  \n",
            "dtypes: float64(1), int64(2), object(8)\n",
            "memory usage: 98.4+ KB\n"
          ],
          "name": "stdout"
        }
      ]
    },
    {
      "cell_type": "code",
      "metadata": {
        "colab": {
          "base_uri": "https://localhost:8080/"
        },
        "id": "v1QtsisOvEh0",
        "outputId": "adb51e25-fd53-461f-db4b-853e57bfa207"
      },
      "source": [
        "training_data = training_data[training_data['district_x'] == training_data['district_y']]\n",
        "training_data.info()"
      ],
      "execution_count": null,
      "outputs": [
        {
          "output_type": "stream",
          "text": [
            "<class 'pandas.core.frame.DataFrame'>\n",
            "Int64Index: 1029 entries, 0 to 1049\n",
            "Data columns (total 11 columns):\n",
            " #   Column      Non-Null Count  Dtype  \n",
            "---  ------      --------------  -----  \n",
            " 0   city_x      1029 non-null   object \n",
            " 1   district_x  1029 non-null   object \n",
            " 2   house       1029 non-null   object \n",
            " 3   amount      1029 non-null   int64  \n",
            " 4   street      1029 non-null   object \n",
            " 5   index       1029 non-null   object \n",
            " 6   city_y      1029 non-null   object \n",
            " 7   district_y  1029 non-null   object \n",
            " 8   type        1029 non-null   object \n",
            " 9   area        1029 non-null   float64\n",
            " 10  index_col   1029 non-null   int64  \n",
            "dtypes: float64(1), int64(2), object(8)\n",
            "memory usage: 96.5+ KB\n"
          ],
          "name": "stdout"
        }
      ]
    },
    {
      "cell_type": "code",
      "metadata": {
        "colab": {
          "base_uri": "https://localhost:8080/",
          "height": 204
        },
        "id": "g8XVspb0wlD6",
        "outputId": "6d51f818-fd78-42ff-b27d-16b558d8fe26"
      },
      "source": [
        "training_data.drop(['city_y', 'district_y'], axis=1, inplace=True)\n",
        "training_data.rename(columns={'city_x': 'city', 'district_x': 'district'}, inplace=True)\n",
        "training_data = training_data[['index_col','district','index','city','street','house','type','area','amount']]\n",
        "training_data.head()"
      ],
      "execution_count": null,
      "outputs": [
        {
          "output_type": "execute_result",
          "data": {
            "text/html": [
              "<div>\n",
              "<style scoped>\n",
              "    .dataframe tbody tr th:only-of-type {\n",
              "        vertical-align: middle;\n",
              "    }\n",
              "\n",
              "    .dataframe tbody tr th {\n",
              "        vertical-align: top;\n",
              "    }\n",
              "\n",
              "    .dataframe thead th {\n",
              "        text-align: right;\n",
              "    }\n",
              "</style>\n",
              "<table border=\"1\" class=\"dataframe\">\n",
              "  <thead>\n",
              "    <tr style=\"text-align: right;\">\n",
              "      <th></th>\n",
              "      <th>index_col</th>\n",
              "      <th>district</th>\n",
              "      <th>index</th>\n",
              "      <th>city</th>\n",
              "      <th>street</th>\n",
              "      <th>house</th>\n",
              "      <th>type</th>\n",
              "      <th>area</th>\n",
              "      <th>amount</th>\n",
              "    </tr>\n",
              "  </thead>\n",
              "  <tbody>\n",
              "    <tr>\n",
              "      <th>0</th>\n",
              "      <td>1243</td>\n",
              "      <td>Адмиралтейский</td>\n",
              "      <td>190000</td>\n",
              "      <td>санкт-петербург</td>\n",
              "      <td>набережная канала адмиралтейского</td>\n",
              "      <td>7</td>\n",
              "      <td>помещение</td>\n",
              "      <td>143.2</td>\n",
              "      <td>2</td>\n",
              "    </tr>\n",
              "    <tr>\n",
              "      <th>1</th>\n",
              "      <td>2348</td>\n",
              "      <td>Адмиралтейский</td>\n",
              "      <td>190068</td>\n",
              "      <td>санкт-петербург</td>\n",
              "      <td>проспект английский</td>\n",
              "      <td>40</td>\n",
              "      <td>помещение</td>\n",
              "      <td>335.3</td>\n",
              "      <td>4</td>\n",
              "    </tr>\n",
              "    <tr>\n",
              "      <th>3</th>\n",
              "      <td>784</td>\n",
              "      <td>Адмиралтейский</td>\n",
              "      <td>190000</td>\n",
              "      <td>санкт-петербург</td>\n",
              "      <td>улица большая морская</td>\n",
              "      <td>40</td>\n",
              "      <td>помещение</td>\n",
              "      <td>3420.9</td>\n",
              "      <td>1</td>\n",
              "    </tr>\n",
              "    <tr>\n",
              "      <th>4</th>\n",
              "      <td>820</td>\n",
              "      <td>Адмиралтейский</td>\n",
              "      <td>191180</td>\n",
              "      <td>санкт-петербург</td>\n",
              "      <td>переулок большой казачий</td>\n",
              "      <td>1/61</td>\n",
              "      <td>помещение</td>\n",
              "      <td>266.8</td>\n",
              "      <td>3</td>\n",
              "    </tr>\n",
              "    <tr>\n",
              "      <th>5</th>\n",
              "      <td>821</td>\n",
              "      <td>Адмиралтейский</td>\n",
              "      <td>191180</td>\n",
              "      <td>санкт-петербург</td>\n",
              "      <td>переулок большой казачий</td>\n",
              "      <td>1/61</td>\n",
              "      <td>помещение</td>\n",
              "      <td>204.3</td>\n",
              "      <td>3</td>\n",
              "    </tr>\n",
              "  </tbody>\n",
              "</table>\n",
              "</div>"
            ],
            "text/plain": [
              "   index_col        district   index  ...       type    area amount\n",
              "0       1243  Адмиралтейский  190000  ...  помещение   143.2      2\n",
              "1       2348  Адмиралтейский  190068  ...  помещение   335.3      4\n",
              "3        784  Адмиралтейский  190000  ...  помещение  3420.9      1\n",
              "4        820  Адмиралтейский  191180  ...  помещение   266.8      3\n",
              "5        821  Адмиралтейский  191180  ...  помещение   204.3      3\n",
              "\n",
              "[5 rows x 9 columns]"
            ]
          },
          "metadata": {
            "tags": []
          },
          "execution_count": 49
        }
      ]
    },
    {
      "cell_type": "code",
      "metadata": {
        "colab": {
          "base_uri": "https://localhost:8080/",
          "height": 204
        },
        "id": "-uhVwV4Iy9fU",
        "outputId": "6f73483f-775c-49b8-d115-c6904f1d92c4"
      },
      "source": [
        "predict_data = df_business_adress[~df_business_adress.index.isin(training_data.index)]\n",
        "predict_data = predict_data[['index_col','district','index','city','street','house','type','area']]\n",
        "predict_data.head()"
      ],
      "execution_count": null,
      "outputs": [
        {
          "output_type": "execute_result",
          "data": {
            "text/html": [
              "<div>\n",
              "<style scoped>\n",
              "    .dataframe tbody tr th:only-of-type {\n",
              "        vertical-align: middle;\n",
              "    }\n",
              "\n",
              "    .dataframe tbody tr th {\n",
              "        vertical-align: top;\n",
              "    }\n",
              "\n",
              "    .dataframe thead th {\n",
              "        text-align: right;\n",
              "    }\n",
              "</style>\n",
              "<table border=\"1\" class=\"dataframe\">\n",
              "  <thead>\n",
              "    <tr style=\"text-align: right;\">\n",
              "      <th></th>\n",
              "      <th>index_col</th>\n",
              "      <th>district</th>\n",
              "      <th>index</th>\n",
              "      <th>city</th>\n",
              "      <th>street</th>\n",
              "      <th>house</th>\n",
              "      <th>type</th>\n",
              "      <th>area</th>\n",
              "    </tr>\n",
              "  </thead>\n",
              "  <tbody>\n",
              "    <tr>\n",
              "      <th>2</th>\n",
              "      <td>2</td>\n",
              "      <td>Центральный</td>\n",
              "      <td>191025</td>\n",
              "      <td>санкт-петербург</td>\n",
              "      <td>улица маяковского</td>\n",
              "      <td>2/94</td>\n",
              "      <td>помещение</td>\n",
              "      <td>100.8</td>\n",
              "    </tr>\n",
              "    <tr>\n",
              "      <th>277</th>\n",
              "      <td>277</td>\n",
              "      <td>Невский</td>\n",
              "      <td>192029</td>\n",
              "      <td>санкт-петербург</td>\n",
              "      <td>улица седова</td>\n",
              "      <td>37</td>\n",
              "      <td>помещение</td>\n",
              "      <td>86.7</td>\n",
              "    </tr>\n",
              "    <tr>\n",
              "      <th>345</th>\n",
              "      <td>345</td>\n",
              "      <td>Петроградский</td>\n",
              "      <td>197198</td>\n",
              "      <td>санкт-петербург</td>\n",
              "      <td>улица зверинская</td>\n",
              "      <td>18</td>\n",
              "      <td>помещение</td>\n",
              "      <td>39.0</td>\n",
              "    </tr>\n",
              "    <tr>\n",
              "      <th>348</th>\n",
              "      <td>348</td>\n",
              "      <td>Петроградский</td>\n",
              "      <td>197198</td>\n",
              "      <td>санкт-петербург</td>\n",
              "      <td>улица шамшева</td>\n",
              "      <td>5/50</td>\n",
              "      <td>помещение</td>\n",
              "      <td>94.8</td>\n",
              "    </tr>\n",
              "    <tr>\n",
              "      <th>349</th>\n",
              "      <td>349</td>\n",
              "      <td>Петроградский</td>\n",
              "      <td>197110</td>\n",
              "      <td>санкт-петербург</td>\n",
              "      <td>улица большая зеленина</td>\n",
              "      <td>22</td>\n",
              "      <td>помещение</td>\n",
              "      <td>44.6</td>\n",
              "    </tr>\n",
              "  </tbody>\n",
              "</table>\n",
              "</div>"
            ],
            "text/plain": [
              "     index_col       district   index  ... house       type   area\n",
              "2            2    Центральный  191025  ...  2/94  помещение  100.8\n",
              "277        277        Невский  192029  ...    37  помещение   86.7\n",
              "345        345  Петроградский  197198  ...    18  помещение   39.0\n",
              "348        348  Петроградский  197198  ...  5/50  помещение   94.8\n",
              "349        349  Петроградский  197110  ...    22  помещение   44.6\n",
              "\n",
              "[5 rows x 8 columns]"
            ]
          },
          "metadata": {
            "tags": []
          },
          "execution_count": 50
        }
      ]
    },
    {
      "cell_type": "code",
      "metadata": {
        "colab": {
          "base_uri": "https://localhost:8080/"
        },
        "id": "HEubmmbC1l1t",
        "outputId": "4815068f-c435-48a8-ac0d-8d91e8b090e3"
      },
      "source": [
        "predict_data.info()"
      ],
      "execution_count": null,
      "outputs": [
        {
          "output_type": "stream",
          "text": [
            "<class 'pandas.core.frame.DataFrame'>\n",
            "Int64Index: 1618 entries, 2 to 2646\n",
            "Data columns (total 8 columns):\n",
            " #   Column     Non-Null Count  Dtype  \n",
            "---  ------     --------------  -----  \n",
            " 0   index_col  1618 non-null   int64  \n",
            " 1   district   1618 non-null   object \n",
            " 2   index      1618 non-null   object \n",
            " 3   city       1618 non-null   object \n",
            " 4   street     1612 non-null   object \n",
            " 5   house      1618 non-null   object \n",
            " 6   type       1618 non-null   object \n",
            " 7   area       1618 non-null   float64\n",
            "dtypes: float64(1), int64(1), object(6)\n",
            "memory usage: 113.8+ KB\n"
          ],
          "name": "stdout"
        }
      ]
    },
    {
      "cell_type": "code",
      "metadata": {
        "id": "kQkQqCQSL2Ie"
      },
      "source": [
        "training_data.drop(['index_col'], axis=1, inplace=True)"
      ],
      "execution_count": null,
      "outputs": []
    },
    {
      "cell_type": "code",
      "metadata": {
        "id": "4A6TyfunL74q"
      },
      "source": [
        "predict_data.drop(['index_col'], axis=1, inplace=True)"
      ],
      "execution_count": null,
      "outputs": []
    },
    {
      "cell_type": "code",
      "metadata": {
        "colab": {
          "base_uri": "https://localhost:8080/",
          "height": 204
        },
        "id": "9do9fFV8Ly6I",
        "outputId": "004fb1d3-6cd7-4a67-f791-550fa03e8b19"
      },
      "source": [
        "training_data.head()"
      ],
      "execution_count": null,
      "outputs": [
        {
          "output_type": "execute_result",
          "data": {
            "text/html": [
              "<div>\n",
              "<style scoped>\n",
              "    .dataframe tbody tr th:only-of-type {\n",
              "        vertical-align: middle;\n",
              "    }\n",
              "\n",
              "    .dataframe tbody tr th {\n",
              "        vertical-align: top;\n",
              "    }\n",
              "\n",
              "    .dataframe thead th {\n",
              "        text-align: right;\n",
              "    }\n",
              "</style>\n",
              "<table border=\"1\" class=\"dataframe\">\n",
              "  <thead>\n",
              "    <tr style=\"text-align: right;\">\n",
              "      <th></th>\n",
              "      <th>district</th>\n",
              "      <th>index</th>\n",
              "      <th>city</th>\n",
              "      <th>street</th>\n",
              "      <th>house</th>\n",
              "      <th>type</th>\n",
              "      <th>area</th>\n",
              "      <th>amount</th>\n",
              "    </tr>\n",
              "  </thead>\n",
              "  <tbody>\n",
              "    <tr>\n",
              "      <th>0</th>\n",
              "      <td>Адмиралтейский</td>\n",
              "      <td>190000</td>\n",
              "      <td>санкт-петербург</td>\n",
              "      <td>набережная канала адмиралтейского</td>\n",
              "      <td>7</td>\n",
              "      <td>помещение</td>\n",
              "      <td>143.2</td>\n",
              "      <td>2</td>\n",
              "    </tr>\n",
              "    <tr>\n",
              "      <th>1</th>\n",
              "      <td>Адмиралтейский</td>\n",
              "      <td>190068</td>\n",
              "      <td>санкт-петербург</td>\n",
              "      <td>проспект английский</td>\n",
              "      <td>40</td>\n",
              "      <td>помещение</td>\n",
              "      <td>335.3</td>\n",
              "      <td>4</td>\n",
              "    </tr>\n",
              "    <tr>\n",
              "      <th>3</th>\n",
              "      <td>Адмиралтейский</td>\n",
              "      <td>190000</td>\n",
              "      <td>санкт-петербург</td>\n",
              "      <td>улица большая морская</td>\n",
              "      <td>40</td>\n",
              "      <td>помещение</td>\n",
              "      <td>3420.9</td>\n",
              "      <td>1</td>\n",
              "    </tr>\n",
              "    <tr>\n",
              "      <th>4</th>\n",
              "      <td>Адмиралтейский</td>\n",
              "      <td>191180</td>\n",
              "      <td>санкт-петербург</td>\n",
              "      <td>переулок большой казачий</td>\n",
              "      <td>1/61</td>\n",
              "      <td>помещение</td>\n",
              "      <td>266.8</td>\n",
              "      <td>3</td>\n",
              "    </tr>\n",
              "    <tr>\n",
              "      <th>5</th>\n",
              "      <td>Адмиралтейский</td>\n",
              "      <td>191180</td>\n",
              "      <td>санкт-петербург</td>\n",
              "      <td>переулок большой казачий</td>\n",
              "      <td>1/61</td>\n",
              "      <td>помещение</td>\n",
              "      <td>204.3</td>\n",
              "      <td>3</td>\n",
              "    </tr>\n",
              "  </tbody>\n",
              "</table>\n",
              "</div>"
            ],
            "text/plain": [
              "         district   index             city  ...       type    area amount\n",
              "0  Адмиралтейский  190000  санкт-петербург  ...  помещение   143.2      2\n",
              "1  Адмиралтейский  190068  санкт-петербург  ...  помещение   335.3      4\n",
              "3  Адмиралтейский  190000  санкт-петербург  ...  помещение  3420.9      1\n",
              "4  Адмиралтейский  191180  санкт-петербург  ...  помещение   266.8      3\n",
              "5  Адмиралтейский  191180  санкт-петербург  ...  помещение   204.3      3\n",
              "\n",
              "[5 rows x 8 columns]"
            ]
          },
          "metadata": {
            "tags": []
          },
          "execution_count": 54
        }
      ]
    },
    {
      "cell_type": "code",
      "metadata": {
        "colab": {
          "base_uri": "https://localhost:8080/",
          "height": 204
        },
        "id": "s32H2YdcLzNj",
        "outputId": "d8395057-2da2-4c6f-85bf-219d8b240cf4"
      },
      "source": [
        "predict_data.head()"
      ],
      "execution_count": null,
      "outputs": [
        {
          "output_type": "execute_result",
          "data": {
            "text/html": [
              "<div>\n",
              "<style scoped>\n",
              "    .dataframe tbody tr th:only-of-type {\n",
              "        vertical-align: middle;\n",
              "    }\n",
              "\n",
              "    .dataframe tbody tr th {\n",
              "        vertical-align: top;\n",
              "    }\n",
              "\n",
              "    .dataframe thead th {\n",
              "        text-align: right;\n",
              "    }\n",
              "</style>\n",
              "<table border=\"1\" class=\"dataframe\">\n",
              "  <thead>\n",
              "    <tr style=\"text-align: right;\">\n",
              "      <th></th>\n",
              "      <th>district</th>\n",
              "      <th>index</th>\n",
              "      <th>city</th>\n",
              "      <th>street</th>\n",
              "      <th>house</th>\n",
              "      <th>type</th>\n",
              "      <th>area</th>\n",
              "    </tr>\n",
              "  </thead>\n",
              "  <tbody>\n",
              "    <tr>\n",
              "      <th>2</th>\n",
              "      <td>Центральный</td>\n",
              "      <td>191025</td>\n",
              "      <td>санкт-петербург</td>\n",
              "      <td>улица маяковского</td>\n",
              "      <td>2/94</td>\n",
              "      <td>помещение</td>\n",
              "      <td>100.8</td>\n",
              "    </tr>\n",
              "    <tr>\n",
              "      <th>277</th>\n",
              "      <td>Невский</td>\n",
              "      <td>192029</td>\n",
              "      <td>санкт-петербург</td>\n",
              "      <td>улица седова</td>\n",
              "      <td>37</td>\n",
              "      <td>помещение</td>\n",
              "      <td>86.7</td>\n",
              "    </tr>\n",
              "    <tr>\n",
              "      <th>345</th>\n",
              "      <td>Петроградский</td>\n",
              "      <td>197198</td>\n",
              "      <td>санкт-петербург</td>\n",
              "      <td>улица зверинская</td>\n",
              "      <td>18</td>\n",
              "      <td>помещение</td>\n",
              "      <td>39.0</td>\n",
              "    </tr>\n",
              "    <tr>\n",
              "      <th>348</th>\n",
              "      <td>Петроградский</td>\n",
              "      <td>197198</td>\n",
              "      <td>санкт-петербург</td>\n",
              "      <td>улица шамшева</td>\n",
              "      <td>5/50</td>\n",
              "      <td>помещение</td>\n",
              "      <td>94.8</td>\n",
              "    </tr>\n",
              "    <tr>\n",
              "      <th>349</th>\n",
              "      <td>Петроградский</td>\n",
              "      <td>197110</td>\n",
              "      <td>санкт-петербург</td>\n",
              "      <td>улица большая зеленина</td>\n",
              "      <td>22</td>\n",
              "      <td>помещение</td>\n",
              "      <td>44.6</td>\n",
              "    </tr>\n",
              "  </tbody>\n",
              "</table>\n",
              "</div>"
            ],
            "text/plain": [
              "          district   index             city  ... house       type   area\n",
              "2      Центральный  191025  санкт-петербург  ...  2/94  помещение  100.8\n",
              "277        Невский  192029  санкт-петербург  ...    37  помещение   86.7\n",
              "345  Петроградский  197198  санкт-петербург  ...    18  помещение   39.0\n",
              "348  Петроградский  197198  санкт-петербург  ...  5/50  помещение   94.8\n",
              "349  Петроградский  197110  санкт-петербург  ...    22  помещение   44.6\n",
              "\n",
              "[5 rows x 7 columns]"
            ]
          },
          "metadata": {
            "tags": []
          },
          "execution_count": 55
        }
      ]
    },
    {
      "cell_type": "code",
      "metadata": {
        "id": "2pQrNc-Xwu-g"
      },
      "source": [
        "training_data.to_csv('training_data.csv', index = False, header=True)"
      ],
      "execution_count": null,
      "outputs": []
    },
    {
      "cell_type": "code",
      "metadata": {
        "id": "S0FjxbxO19OQ"
      },
      "source": [
        "predict_data.to_csv('predict_data.csv', index = False, header=True)"
      ],
      "execution_count": null,
      "outputs": []
    }
  ]
}